{
 "cells": [
  {
   "cell_type": "code",
   "execution_count": 1,
   "metadata": {
    "colab": {
     "base_uri": "https://localhost:8080/",
     "height": 121
    },
    "colab_type": "code",
    "id": "Kw8eXzSRnniv",
    "outputId": "58678c73-1377-4385-a545-b0d81e51aaed"
   },
   "outputs": [
    {
     "name": "stdout",
     "output_type": "stream",
     "text": [
      "Requirement already satisfied: wordcloud in c:\\users\\krish\\anaconda3\\lib\\site-packages (1.5.0)\n",
      "Requirement already satisfied: numpy>=1.6.1 in c:\\users\\krish\\anaconda3\\lib\\site-packages (from wordcloud) (1.16.4)\n",
      "Requirement already satisfied: pillow in c:\\users\\krish\\anaconda3\\lib\\site-packages (from wordcloud) (6.0.0)\n"
     ]
    },
    {
     "name": "stderr",
     "output_type": "stream",
     "text": [
      "[nltk_data] Downloading package stopwords to\n",
      "[nltk_data]     C:\\Users\\krish\\AppData\\Roaming\\nltk_data...\n",
      "[nltk_data]   Package stopwords is already up-to-date!\n"
     ]
    }
   ],
   "source": [
    "#Importing all the necssary libraries\n",
    "import pandas as pd\n",
    "import numpy as np\n",
    "from collections import Counter\n",
    "from functools import reduce\n",
    "import matplotlib\n",
    "import matplotlib.pyplot as plt\n",
    "%matplotlib inline\n",
    "!pip install wordcloud\n",
    "from wordcloud import WordCloud\n",
    "\n",
    "import html\n",
    "import re\n",
    "from scipy import stats\n",
    "import random\n",
    "random.seed()\n",
    "\n",
    "import nltk\n",
    "nltk.download('stopwords')\n",
    "from nltk.tokenize import RegexpTokenizer\n",
    "\n",
    "from html.parser import HTMLParser\n",
    "from bs4 import BeautifulSoup\n",
    "import unicodedata\n",
    "\n",
    "import warnings\n",
    "warnings.filterwarnings(\"ignore\") # To ignore warnings."
   ]
  },
  {
   "cell_type": "markdown",
   "metadata": {},
   "source": [
    "Importing all the data into our python notebook, which can be used for further analysis:"
   ]
  },
  {
   "cell_type": "code",
   "execution_count": 2,
   "metadata": {
    "colab": {
     "base_uri": "https://localhost:8080/",
     "height": 52
    },
    "colab_type": "code",
    "id": "0GG0wgyhnni3",
    "outputId": "854624f8-43e3-4ced-fa67-aea0587f7916"
   },
   "outputs": [
    {
     "name": "stdout",
     "output_type": "stream",
     "text": [
      "Shape of generic_tweets: (200000, 6)\n",
      "Shape of Canadian Election tweets: (2133, 3)\n"
     ]
    }
   ],
   "source": [
    "generic_tweets = pd.read_csv('generic_tweets.txt')\n",
    "election_tweets = pd.read_csv('Canadian_elections_2019.csv')\n",
    "print(\"Shape of generic_tweets:\",generic_tweets.shape)\n",
    "print(\"Shape of Canadian Election tweets:\",election_tweets.shape)\n",
    "\n",
    "with open('stop_words.txt','r') as f:\n",
    "    stop_words = f.read().split('\\n')"
   ]
  },
  {
   "cell_type": "code",
   "execution_count": 3,
   "metadata": {
    "colab": {
     "base_uri": "https://localhost:8080/",
     "height": 202
    },
    "colab_type": "code",
    "id": "eynTpek8nni9",
    "outputId": "5d18a679-47e3-47a0-c08d-b99adce8fac8"
   },
   "outputs": [
    {
     "data": {
      "text/html": [
       "<div>\n",
       "<style scoped>\n",
       "    .dataframe tbody tr th:only-of-type {\n",
       "        vertical-align: middle;\n",
       "    }\n",
       "\n",
       "    .dataframe tbody tr th {\n",
       "        vertical-align: top;\n",
       "    }\n",
       "\n",
       "    .dataframe thead th {\n",
       "        text-align: right;\n",
       "    }\n",
       "</style>\n",
       "<table border=\"1\" class=\"dataframe\">\n",
       "  <thead>\n",
       "    <tr style=\"text-align: right;\">\n",
       "      <th></th>\n",
       "      <th>class</th>\n",
       "      <th>id</th>\n",
       "      <th>date</th>\n",
       "      <th>query</th>\n",
       "      <th>user</th>\n",
       "      <th>text</th>\n",
       "    </tr>\n",
       "  </thead>\n",
       "  <tbody>\n",
       "    <tr>\n",
       "      <th>0</th>\n",
       "      <td>0</td>\n",
       "      <td>1467810369</td>\n",
       "      <td>Mon Apr 06 22:19:45 PDT 2009</td>\n",
       "      <td>NO_QUERY</td>\n",
       "      <td>_TheSpecialOne_</td>\n",
       "      <td>@switchfoot http://twitpic.com/2y1zl - Awww, t...</td>\n",
       "    </tr>\n",
       "    <tr>\n",
       "      <th>1</th>\n",
       "      <td>0</td>\n",
       "      <td>1467810672</td>\n",
       "      <td>Mon Apr 06 22:19:49 PDT 2009</td>\n",
       "      <td>NO_QUERY</td>\n",
       "      <td>scotthamilton</td>\n",
       "      <td>is upset that he can't update his Facebook by ...</td>\n",
       "    </tr>\n",
       "    <tr>\n",
       "      <th>2</th>\n",
       "      <td>0</td>\n",
       "      <td>1467810917</td>\n",
       "      <td>Mon Apr 06 22:19:53 PDT 2009</td>\n",
       "      <td>NO_QUERY</td>\n",
       "      <td>mattycus</td>\n",
       "      <td>@Kenichan I dived many times for the ball. Man...</td>\n",
       "    </tr>\n",
       "    <tr>\n",
       "      <th>3</th>\n",
       "      <td>0</td>\n",
       "      <td>1467811184</td>\n",
       "      <td>Mon Apr 06 22:19:57 PDT 2009</td>\n",
       "      <td>NO_QUERY</td>\n",
       "      <td>ElleCTF</td>\n",
       "      <td>my whole body feels itchy and like its on fire</td>\n",
       "    </tr>\n",
       "    <tr>\n",
       "      <th>4</th>\n",
       "      <td>0</td>\n",
       "      <td>1467811193</td>\n",
       "      <td>Mon Apr 06 22:19:57 PDT 2009</td>\n",
       "      <td>NO_QUERY</td>\n",
       "      <td>Karoli</td>\n",
       "      <td>@nationwideclass no, it's not behaving at all....</td>\n",
       "    </tr>\n",
       "  </tbody>\n",
       "</table>\n",
       "</div>"
      ],
      "text/plain": [
       "   class          id                          date     query             user  \\\n",
       "0      0  1467810369  Mon Apr 06 22:19:45 PDT 2009  NO_QUERY  _TheSpecialOne_   \n",
       "1      0  1467810672  Mon Apr 06 22:19:49 PDT 2009  NO_QUERY    scotthamilton   \n",
       "2      0  1467810917  Mon Apr 06 22:19:53 PDT 2009  NO_QUERY         mattycus   \n",
       "3      0  1467811184  Mon Apr 06 22:19:57 PDT 2009  NO_QUERY          ElleCTF   \n",
       "4      0  1467811193  Mon Apr 06 22:19:57 PDT 2009  NO_QUERY           Karoli   \n",
       "\n",
       "                                                text  \n",
       "0  @switchfoot http://twitpic.com/2y1zl - Awww, t...  \n",
       "1  is upset that he can't update his Facebook by ...  \n",
       "2  @Kenichan I dived many times for the ball. Man...  \n",
       "3    my whole body feels itchy and like its on fire   \n",
       "4  @nationwideclass no, it's not behaving at all....  "
      ]
     },
     "execution_count": 3,
     "metadata": {},
     "output_type": "execute_result"
    }
   ],
   "source": [
    "generic_tweets.head()"
   ]
  },
  {
   "cell_type": "code",
   "execution_count": 4,
   "metadata": {
    "colab": {
     "base_uri": "https://localhost:8080/",
     "height": 202
    },
    "colab_type": "code",
    "id": "1B5hOW8rnnjC",
    "outputId": "42de8005-ebac-48da-e89b-311ead28730a"
   },
   "outputs": [
    {
     "data": {
      "text/html": [
       "<div>\n",
       "<style scoped>\n",
       "    .dataframe tbody tr th:only-of-type {\n",
       "        vertical-align: middle;\n",
       "    }\n",
       "\n",
       "    .dataframe tbody tr th {\n",
       "        vertical-align: top;\n",
       "    }\n",
       "\n",
       "    .dataframe thead th {\n",
       "        text-align: right;\n",
       "    }\n",
       "</style>\n",
       "<table border=\"1\" class=\"dataframe\">\n",
       "  <thead>\n",
       "    <tr style=\"text-align: right;\">\n",
       "      <th></th>\n",
       "      <th>sentiment</th>\n",
       "      <th>negative_reason</th>\n",
       "      <th>text</th>\n",
       "    </tr>\n",
       "  </thead>\n",
       "  <tbody>\n",
       "    <tr>\n",
       "      <th>0</th>\n",
       "      <td>negative</td>\n",
       "      <td>Women Reproductive right and Racism</td>\n",
       "      <td>b\"@RosieBarton So instead of your suggestion, ...</td>\n",
       "    </tr>\n",
       "    <tr>\n",
       "      <th>1</th>\n",
       "      <td>positive</td>\n",
       "      <td>NaN</td>\n",
       "      <td>b\"#AllWomanSpacewalk it's real!\\n@Space_Statio...</td>\n",
       "    </tr>\n",
       "    <tr>\n",
       "      <th>2</th>\n",
       "      <td>negative</td>\n",
       "      <td>Economy</td>\n",
       "      <td>b\"#Brantford It's going to cost YOU $94 BILLIO...</td>\n",
       "    </tr>\n",
       "    <tr>\n",
       "      <th>3</th>\n",
       "      <td>positive</td>\n",
       "      <td>NaN</td>\n",
       "      <td>b\"#Canada #CanadaElection2019 #CanadaVotes \\n#...</td>\n",
       "    </tr>\n",
       "    <tr>\n",
       "      <th>4</th>\n",
       "      <td>negative</td>\n",
       "      <td>Economy</td>\n",
       "      <td>b\"#Canada #taxpayers are sick &amp;amp; tired of h...</td>\n",
       "    </tr>\n",
       "  </tbody>\n",
       "</table>\n",
       "</div>"
      ],
      "text/plain": [
       "  sentiment                      negative_reason  \\\n",
       "0  negative  Women Reproductive right and Racism   \n",
       "1  positive                                  NaN   \n",
       "2  negative                              Economy   \n",
       "3  positive                                  NaN   \n",
       "4  negative                              Economy   \n",
       "\n",
       "                                                text  \n",
       "0  b\"@RosieBarton So instead of your suggestion, ...  \n",
       "1  b\"#AllWomanSpacewalk it's real!\\n@Space_Statio...  \n",
       "2  b\"#Brantford It's going to cost YOU $94 BILLIO...  \n",
       "3  b\"#Canada #CanadaElection2019 #CanadaVotes \\n#...  \n",
       "4  b\"#Canada #taxpayers are sick &amp; tired of h...  "
      ]
     },
     "execution_count": 4,
     "metadata": {},
     "output_type": "execute_result"
    }
   ],
   "source": [
    "election_tweets.head()"
   ]
  },
  {
   "cell_type": "markdown",
   "metadata": {
    "colab_type": "text",
    "id": "fEMSiMgInnjH"
   },
   "source": [
    "# 1.Data Cleaning:"
   ]
  },
  {
   "cell_type": "markdown",
   "metadata": {
    "colab_type": "text",
    "id": "VkkJCHvOnnjJ"
   },
   "source": [
    "### 1.1 Remove HTML tags and attributes and return HTML character codes (i.e., &...;) with an ASCII equivalent\n",
    "When reading in the CSV files, the HTML tags and character codes are also read in. These symbols are noise to the model as they are not part of the natural language that the sentiment analysis should analyze.\n",
    "\n",
    "By passing twitter text through BeautifulSoup html parser, the HTML character codes in text are automatically converted into ASCII equivalents, with the HTML tags removed.\n",
    "\n",
    "This is done by defining a function called parse that takes a line of text and returns it after applying HTML parser to it. The function is applied to each row of the dataframe by the .apply() method."
   ]
  },
  {
   "cell_type": "code",
   "execution_count": 5,
   "metadata": {
    "colab": {},
    "colab_type": "code",
    "id": "jWpjqfHinnjL"
   },
   "outputs": [],
   "source": [
    "# defining function to remove HTML tags from all the tweets\n",
    "def parse(text):\n",
    "    \"\"\"\n",
    "    remove html tags and attributes using beautifulSoup html.parser\n",
    "    returns output as text\n",
    "    \"\"\"\n",
    "    soup=BeautifulSoup(text,'html.parser')\n",
    "    return soup.get_text()"
   ]
  },
  {
   "cell_type": "code",
   "execution_count": 6,
   "metadata": {
    "colab": {
     "base_uri": "https://localhost:8080/",
     "height": 202
    },
    "colab_type": "code",
    "id": "dNl0YZwnnnjP",
    "outputId": "cc93cc6c-1c00-4a73-c338-cdabecbfe485"
   },
   "outputs": [
    {
     "data": {
      "text/html": [
       "<div>\n",
       "<style scoped>\n",
       "    .dataframe tbody tr th:only-of-type {\n",
       "        vertical-align: middle;\n",
       "    }\n",
       "\n",
       "    .dataframe tbody tr th {\n",
       "        vertical-align: top;\n",
       "    }\n",
       "\n",
       "    .dataframe thead th {\n",
       "        text-align: right;\n",
       "    }\n",
       "</style>\n",
       "<table border=\"1\" class=\"dataframe\">\n",
       "  <thead>\n",
       "    <tr style=\"text-align: right;\">\n",
       "      <th></th>\n",
       "      <th>class</th>\n",
       "      <th>id</th>\n",
       "      <th>date</th>\n",
       "      <th>query</th>\n",
       "      <th>user</th>\n",
       "      <th>text</th>\n",
       "    </tr>\n",
       "  </thead>\n",
       "  <tbody>\n",
       "    <tr>\n",
       "      <th>0</th>\n",
       "      <td>0</td>\n",
       "      <td>1467810369</td>\n",
       "      <td>Mon Apr 06 22:19:45 PDT 2009</td>\n",
       "      <td>NO_QUERY</td>\n",
       "      <td>_TheSpecialOne_</td>\n",
       "      <td>@switchfoot http://twitpic.com/2y1zl - Awww, t...</td>\n",
       "    </tr>\n",
       "    <tr>\n",
       "      <th>1</th>\n",
       "      <td>0</td>\n",
       "      <td>1467810672</td>\n",
       "      <td>Mon Apr 06 22:19:49 PDT 2009</td>\n",
       "      <td>NO_QUERY</td>\n",
       "      <td>scotthamilton</td>\n",
       "      <td>is upset that he can't update his Facebook by ...</td>\n",
       "    </tr>\n",
       "    <tr>\n",
       "      <th>2</th>\n",
       "      <td>0</td>\n",
       "      <td>1467810917</td>\n",
       "      <td>Mon Apr 06 22:19:53 PDT 2009</td>\n",
       "      <td>NO_QUERY</td>\n",
       "      <td>mattycus</td>\n",
       "      <td>@Kenichan I dived many times for the ball. Man...</td>\n",
       "    </tr>\n",
       "    <tr>\n",
       "      <th>3</th>\n",
       "      <td>0</td>\n",
       "      <td>1467811184</td>\n",
       "      <td>Mon Apr 06 22:19:57 PDT 2009</td>\n",
       "      <td>NO_QUERY</td>\n",
       "      <td>ElleCTF</td>\n",
       "      <td>my whole body feels itchy and like its on fire</td>\n",
       "    </tr>\n",
       "    <tr>\n",
       "      <th>4</th>\n",
       "      <td>0</td>\n",
       "      <td>1467811193</td>\n",
       "      <td>Mon Apr 06 22:19:57 PDT 2009</td>\n",
       "      <td>NO_QUERY</td>\n",
       "      <td>Karoli</td>\n",
       "      <td>@nationwideclass no, it's not behaving at all....</td>\n",
       "    </tr>\n",
       "  </tbody>\n",
       "</table>\n",
       "</div>"
      ],
      "text/plain": [
       "   class          id                          date     query             user  \\\n",
       "0      0  1467810369  Mon Apr 06 22:19:45 PDT 2009  NO_QUERY  _TheSpecialOne_   \n",
       "1      0  1467810672  Mon Apr 06 22:19:49 PDT 2009  NO_QUERY    scotthamilton   \n",
       "2      0  1467810917  Mon Apr 06 22:19:53 PDT 2009  NO_QUERY         mattycus   \n",
       "3      0  1467811184  Mon Apr 06 22:19:57 PDT 2009  NO_QUERY          ElleCTF   \n",
       "4      0  1467811193  Mon Apr 06 22:19:57 PDT 2009  NO_QUERY           Karoli   \n",
       "\n",
       "                                                text  \n",
       "0  @switchfoot http://twitpic.com/2y1zl - Awww, t...  \n",
       "1  is upset that he can't update his Facebook by ...  \n",
       "2  @Kenichan I dived many times for the ball. Man...  \n",
       "3    my whole body feels itchy and like its on fire   \n",
       "4  @nationwideclass no, it's not behaving at all....  "
      ]
     },
     "execution_count": 6,
     "metadata": {},
     "output_type": "execute_result"
    }
   ],
   "source": [
    "# applying the parse function to all rows of the text column.\n",
    "generic_tweets['text']=generic_tweets['text'].apply(parse)\n",
    "generic_tweets.head()"
   ]
  },
  {
   "cell_type": "code",
   "execution_count": 7,
   "metadata": {
    "colab": {
     "base_uri": "https://localhost:8080/",
     "height": 202
    },
    "colab_type": "code",
    "id": "4tJPRa_cnnjU",
    "outputId": "9eb14e48-ccce-4893-bc9b-dbb9c286f186"
   },
   "outputs": [
    {
     "data": {
      "text/html": [
       "<div>\n",
       "<style scoped>\n",
       "    .dataframe tbody tr th:only-of-type {\n",
       "        vertical-align: middle;\n",
       "    }\n",
       "\n",
       "    .dataframe tbody tr th {\n",
       "        vertical-align: top;\n",
       "    }\n",
       "\n",
       "    .dataframe thead th {\n",
       "        text-align: right;\n",
       "    }\n",
       "</style>\n",
       "<table border=\"1\" class=\"dataframe\">\n",
       "  <thead>\n",
       "    <tr style=\"text-align: right;\">\n",
       "      <th></th>\n",
       "      <th>sentiment</th>\n",
       "      <th>negative_reason</th>\n",
       "      <th>text</th>\n",
       "    </tr>\n",
       "  </thead>\n",
       "  <tbody>\n",
       "    <tr>\n",
       "      <th>0</th>\n",
       "      <td>negative</td>\n",
       "      <td>Women Reproductive right and Racism</td>\n",
       "      <td>b\"@RosieBarton So instead of your suggestion, ...</td>\n",
       "    </tr>\n",
       "    <tr>\n",
       "      <th>1</th>\n",
       "      <td>positive</td>\n",
       "      <td>NaN</td>\n",
       "      <td>b\"#AllWomanSpacewalk it's real!\\n@Space_Statio...</td>\n",
       "    </tr>\n",
       "    <tr>\n",
       "      <th>2</th>\n",
       "      <td>negative</td>\n",
       "      <td>Economy</td>\n",
       "      <td>b\"#Brantford It's going to cost YOU $94 BILLIO...</td>\n",
       "    </tr>\n",
       "    <tr>\n",
       "      <th>3</th>\n",
       "      <td>positive</td>\n",
       "      <td>NaN</td>\n",
       "      <td>b\"#Canada #CanadaElection2019 #CanadaVotes \\n#...</td>\n",
       "    </tr>\n",
       "    <tr>\n",
       "      <th>4</th>\n",
       "      <td>negative</td>\n",
       "      <td>Economy</td>\n",
       "      <td>b\"#Canada #taxpayers are sick &amp; tired of havin...</td>\n",
       "    </tr>\n",
       "  </tbody>\n",
       "</table>\n",
       "</div>"
      ],
      "text/plain": [
       "  sentiment                      negative_reason  \\\n",
       "0  negative  Women Reproductive right and Racism   \n",
       "1  positive                                  NaN   \n",
       "2  negative                              Economy   \n",
       "3  positive                                  NaN   \n",
       "4  negative                              Economy   \n",
       "\n",
       "                                                text  \n",
       "0  b\"@RosieBarton So instead of your suggestion, ...  \n",
       "1  b\"#AllWomanSpacewalk it's real!\\n@Space_Statio...  \n",
       "2  b\"#Brantford It's going to cost YOU $94 BILLIO...  \n",
       "3  b\"#Canada #CanadaElection2019 #CanadaVotes \\n#...  \n",
       "4  b\"#Canada #taxpayers are sick & tired of havin...  "
      ]
     },
     "execution_count": 7,
     "metadata": {},
     "output_type": "execute_result"
    }
   ],
   "source": [
    "# applying the parse function to all rows of the text column.\n",
    "election_tweets['text']=election_tweets['text'].apply(parse)\n",
    "election_tweets.head()"
   ]
  },
  {
   "cell_type": "markdown",
   "metadata": {
    "colab_type": "text",
    "id": "XMyD3mDunnjY"
   },
   "source": [
    "### 1.2 Normalize Unicode character with regular text\n",
    "Some tweets might contain unicode equivalent characters as part of the text, and these character would add noise to the model. To remove this noise, unicodedata.normalize function is used to normalize unicode characters into regular alphabet."
   ]
  },
  {
   "cell_type": "code",
   "execution_count": 8,
   "metadata": {
    "colab": {},
    "colab_type": "code",
    "id": "L6Lz4R0BnnjZ"
   },
   "outputs": [],
   "source": [
    "def normalize(text):\n",
    "    \"\"\"\n",
    "    normalizes unicode character to regular text\n",
    "    Example: normalize('Cześć')='Czesc'\n",
    "    \"\"\"\n",
    "    # read ascii characters using NFKD method, then decode back to string\n",
    "    text=unicodedata.normalize('NFKD',text).encode('ascii', 'ignore').decode('utf-8')\n",
    "    return text"
   ]
  },
  {
   "cell_type": "code",
   "execution_count": 9,
   "metadata": {
    "colab": {},
    "colab_type": "code",
    "id": "d9oCt3TBnnjc"
   },
   "outputs": [],
   "source": [
    "# applying the normalize function to all rows of the text column.\n",
    "generic_tweets['text']=generic_tweets['text'].apply(normalize)\n",
    "election_tweets['text']=election_tweets['text'].apply(normalize)"
   ]
  },
  {
   "cell_type": "markdown",
   "metadata": {
    "colab_type": "text",
    "id": "z4ZOg7Qgnnjf"
   },
   "source": [
    "### 1.3 Removing the URL\n",
    "URL within the tweet cannot be processed as by the model, as it is not part of the natural language, and they will be a very low frequency feature in the model..\n",
    "\n",
    "They are removed using the regular expression operations inside the standard python library.\n",
    "\n",
    "The re.sub method searches within the string for anything that begins with http or www until a whitespace is seen, and replace all matches with ''."
   ]
  },
  {
   "cell_type": "code",
   "execution_count": 10,
   "metadata": {
    "colab": {},
    "colab_type": "code",
    "id": "StzWym58nnjg"
   },
   "outputs": [],
   "source": [
    "def remove_URL(text):\n",
    "    \"\"\"\n",
    "    removes URL within a string by matching a pattern\n",
    "    pattern: http or www until 1st white space seen\n",
    "    \"\"\"\n",
    "    try:\n",
    "        text = re.sub(r'http\\S+', '', text) #match pattern http followed by any non whitespace followed by white space, replace with nothing\n",
    "        text = re.sub(r'www\\S+', '', text)#match pattern www followed by any non whitespace followed by white space, replace with nothing\n",
    "    except:\n",
    "        text = text\n",
    "    return(text)"
   ]
  },
  {
   "cell_type": "code",
   "execution_count": 11,
   "metadata": {
    "colab": {},
    "colab_type": "code",
    "id": "sUL9wL5lnnji"
   },
   "outputs": [],
   "source": [
    "#removing URL from the tweets\n",
    "generic_tweets['text']=generic_tweets['text'].apply(remove_URL)\n",
    "election_tweets['text']=election_tweets['text'].apply(remove_URL)"
   ]
  },
  {
   "cell_type": "markdown",
   "metadata": {
    "colab_type": "text",
    "id": "G98T18Zrnnjl"
   },
   "source": [
    "### 1.4 Removing non letter and white spaces\n",
    "Also using re.sub to remove none letters and white spaces. This is applied on only generic tweets here, as the airline mentions, identified by a leading @, is not yet stored. This will be applied to the airline tweets after airline mentions are stored.\n",
    "\n",
    "Non-letters are removed by matching anything that is not in the a-z, A-Z, and white space set, and replacing all matches with a white space."
   ]
  },
  {
   "cell_type": "code",
   "execution_count": 12,
   "metadata": {
    "colab": {},
    "colab_type": "code",
    "id": "Fiz6WyVynnjm"
   },
   "outputs": [],
   "source": [
    "def remove_nonletter(text):\n",
    "    \"\"\"\n",
    "    matching anything that is not in the a-z, A-Z and white space set, replace with white space\n",
    "    \"\"\"\n",
    "    try:\n",
    "        text=re.sub(r'[^a-zA-Z ]+', ' ', text)\n",
    "    except:\n",
    "        text=text\n",
    "    return text"
   ]
  },
  {
   "cell_type": "code",
   "execution_count": 13,
   "metadata": {
    "colab": {},
    "colab_type": "code",
    "id": "hRNyPwxFnnjo"
   },
   "outputs": [],
   "source": [
    "def remove_ws(text):\n",
    "    \"\"\"\n",
    "    Removing extra whitespace, make all text lower case, and remove trailing and leading white spaces\n",
    "    \"\"\"\n",
    "    try:\n",
    "        text=re.sub(r'\\s+', ' ', text) #removes extra white space, strip leading and trailing white space\n",
    "        text=text.lower() #make all text lower case\n",
    "    except:\n",
    "        text=text\n",
    "    return text"
   ]
  },
  {
   "cell_type": "code",
   "execution_count": 14,
   "metadata": {
    "colab": {},
    "colab_type": "code",
    "id": "NyJ216OYnnjr"
   },
   "outputs": [],
   "source": [
    "#removing white space and non letter from generic_tweets dataframe\n",
    "generic_tweets['text']=generic_tweets['text'].apply(remove_nonletter)\n",
    "generic_tweets['text']=generic_tweets['text'].apply(remove_ws)"
   ]
  },
  {
   "cell_type": "code",
   "execution_count": 15,
   "metadata": {
    "colab": {},
    "colab_type": "code",
    "id": "VDhuZR7Znnjt"
   },
   "outputs": [],
   "source": [
    "#removing white space from election_tweets dataframe\n",
    "election_tweets['text']=election_tweets['text'].apply(remove_ws)"
   ]
  },
  {
   "cell_type": "code",
   "execution_count": 16,
   "metadata": {
    "colab": {
     "base_uri": "https://localhost:8080/",
     "height": 202
    },
    "colab_type": "code",
    "id": "E5MLJGj8nnjv",
    "outputId": "f1975d49-0979-440f-a0e3-329a16bb271a"
   },
   "outputs": [
    {
     "data": {
      "text/html": [
       "<div>\n",
       "<style scoped>\n",
       "    .dataframe tbody tr th:only-of-type {\n",
       "        vertical-align: middle;\n",
       "    }\n",
       "\n",
       "    .dataframe tbody tr th {\n",
       "        vertical-align: top;\n",
       "    }\n",
       "\n",
       "    .dataframe thead th {\n",
       "        text-align: right;\n",
       "    }\n",
       "</style>\n",
       "<table border=\"1\" class=\"dataframe\">\n",
       "  <thead>\n",
       "    <tr style=\"text-align: right;\">\n",
       "      <th></th>\n",
       "      <th>class</th>\n",
       "      <th>id</th>\n",
       "      <th>date</th>\n",
       "      <th>query</th>\n",
       "      <th>user</th>\n",
       "      <th>text</th>\n",
       "    </tr>\n",
       "  </thead>\n",
       "  <tbody>\n",
       "    <tr>\n",
       "      <th>0</th>\n",
       "      <td>0</td>\n",
       "      <td>1467810369</td>\n",
       "      <td>Mon Apr 06 22:19:45 PDT 2009</td>\n",
       "      <td>NO_QUERY</td>\n",
       "      <td>_TheSpecialOne_</td>\n",
       "      <td>switchfoot a that s a bummer you shoulda got ...</td>\n",
       "    </tr>\n",
       "    <tr>\n",
       "      <th>1</th>\n",
       "      <td>0</td>\n",
       "      <td>1467810672</td>\n",
       "      <td>Mon Apr 06 22:19:49 PDT 2009</td>\n",
       "      <td>NO_QUERY</td>\n",
       "      <td>scotthamilton</td>\n",
       "      <td>is upset that he can t update his facebook by ...</td>\n",
       "    </tr>\n",
       "    <tr>\n",
       "      <th>2</th>\n",
       "      <td>0</td>\n",
       "      <td>1467810917</td>\n",
       "      <td>Mon Apr 06 22:19:53 PDT 2009</td>\n",
       "      <td>NO_QUERY</td>\n",
       "      <td>mattycus</td>\n",
       "      <td>kenichan i dived many times for the ball mana...</td>\n",
       "    </tr>\n",
       "    <tr>\n",
       "      <th>3</th>\n",
       "      <td>0</td>\n",
       "      <td>1467811184</td>\n",
       "      <td>Mon Apr 06 22:19:57 PDT 2009</td>\n",
       "      <td>NO_QUERY</td>\n",
       "      <td>ElleCTF</td>\n",
       "      <td>my whole body feels itchy and like its on fire</td>\n",
       "    </tr>\n",
       "    <tr>\n",
       "      <th>4</th>\n",
       "      <td>0</td>\n",
       "      <td>1467811193</td>\n",
       "      <td>Mon Apr 06 22:19:57 PDT 2009</td>\n",
       "      <td>NO_QUERY</td>\n",
       "      <td>Karoli</td>\n",
       "      <td>nationwideclass no it s not behaving at all i...</td>\n",
       "    </tr>\n",
       "  </tbody>\n",
       "</table>\n",
       "</div>"
      ],
      "text/plain": [
       "   class          id                          date     query             user  \\\n",
       "0      0  1467810369  Mon Apr 06 22:19:45 PDT 2009  NO_QUERY  _TheSpecialOne_   \n",
       "1      0  1467810672  Mon Apr 06 22:19:49 PDT 2009  NO_QUERY    scotthamilton   \n",
       "2      0  1467810917  Mon Apr 06 22:19:53 PDT 2009  NO_QUERY         mattycus   \n",
       "3      0  1467811184  Mon Apr 06 22:19:57 PDT 2009  NO_QUERY          ElleCTF   \n",
       "4      0  1467811193  Mon Apr 06 22:19:57 PDT 2009  NO_QUERY           Karoli   \n",
       "\n",
       "                                                text  \n",
       "0   switchfoot a that s a bummer you shoulda got ...  \n",
       "1  is upset that he can t update his facebook by ...  \n",
       "2   kenichan i dived many times for the ball mana...  \n",
       "3    my whole body feels itchy and like its on fire   \n",
       "4   nationwideclass no it s not behaving at all i...  "
      ]
     },
     "execution_count": 16,
     "metadata": {},
     "output_type": "execute_result"
    }
   ],
   "source": [
    "generic_tweets.head()"
   ]
  },
  {
   "cell_type": "code",
   "execution_count": 17,
   "metadata": {
    "colab": {
     "base_uri": "https://localhost:8080/",
     "height": 202
    },
    "colab_type": "code",
    "id": "VU-F08l4nnjy",
    "outputId": "5c1c991b-ac35-4db9-ea64-c71eb645bc23"
   },
   "outputs": [
    {
     "data": {
      "text/html": [
       "<div>\n",
       "<style scoped>\n",
       "    .dataframe tbody tr th:only-of-type {\n",
       "        vertical-align: middle;\n",
       "    }\n",
       "\n",
       "    .dataframe tbody tr th {\n",
       "        vertical-align: top;\n",
       "    }\n",
       "\n",
       "    .dataframe thead th {\n",
       "        text-align: right;\n",
       "    }\n",
       "</style>\n",
       "<table border=\"1\" class=\"dataframe\">\n",
       "  <thead>\n",
       "    <tr style=\"text-align: right;\">\n",
       "      <th></th>\n",
       "      <th>sentiment</th>\n",
       "      <th>negative_reason</th>\n",
       "      <th>text</th>\n",
       "    </tr>\n",
       "  </thead>\n",
       "  <tbody>\n",
       "    <tr>\n",
       "      <th>0</th>\n",
       "      <td>negative</td>\n",
       "      <td>Women Reproductive right and Racism</td>\n",
       "      <td>b\"@rosiebarton so instead of your suggestion, ...</td>\n",
       "    </tr>\n",
       "    <tr>\n",
       "      <th>1</th>\n",
       "      <td>positive</td>\n",
       "      <td>NaN</td>\n",
       "      <td>b\"#allwomanspacewalk it's real!\\n@space_statio...</td>\n",
       "    </tr>\n",
       "    <tr>\n",
       "      <th>2</th>\n",
       "      <td>negative</td>\n",
       "      <td>Economy</td>\n",
       "      <td>b\"#brantford it's going to cost you $94 billio...</td>\n",
       "    </tr>\n",
       "    <tr>\n",
       "      <th>3</th>\n",
       "      <td>positive</td>\n",
       "      <td>NaN</td>\n",
       "      <td>b\"#canada #canadaelection2019 #canadavotes \\n#...</td>\n",
       "    </tr>\n",
       "    <tr>\n",
       "      <th>4</th>\n",
       "      <td>negative</td>\n",
       "      <td>Economy</td>\n",
       "      <td>b\"#canada #taxpayers are sick &amp; tired of havin...</td>\n",
       "    </tr>\n",
       "  </tbody>\n",
       "</table>\n",
       "</div>"
      ],
      "text/plain": [
       "  sentiment                      negative_reason  \\\n",
       "0  negative  Women Reproductive right and Racism   \n",
       "1  positive                                  NaN   \n",
       "2  negative                              Economy   \n",
       "3  positive                                  NaN   \n",
       "4  negative                              Economy   \n",
       "\n",
       "                                                text  \n",
       "0  b\"@rosiebarton so instead of your suggestion, ...  \n",
       "1  b\"#allwomanspacewalk it's real!\\n@space_statio...  \n",
       "2  b\"#brantford it's going to cost you $94 billio...  \n",
       "3  b\"#canada #canadaelection2019 #canadavotes \\n#...  \n",
       "4  b\"#canada #taxpayers are sick & tired of havin...  "
      ]
     },
     "execution_count": 17,
     "metadata": {},
     "output_type": "execute_result"
    }
   ],
   "source": [
    "election_tweets.head()"
   ]
  },
  {
   "cell_type": "markdown",
   "metadata": {},
   "source": [
    "### Function to assign party names based on the hashtags  from the tweets:"
   ]
  },
  {
   "cell_type": "code",
   "execution_count": 18,
   "metadata": {
    "colab": {},
    "colab_type": "code",
    "id": "hYX3p-cunnj1"
   },
   "outputs": [],
   "source": [
    "# Preprocessor and tokenizer code\n",
    "from sklearn.feature_extraction.text import TfidfVectorizer, CountVectorizer\n",
    "vectorizer = TfidfVectorizer(stop_words=\"english\")\n",
    "\n",
    "preprocessor = vectorizer.build_preprocessor()\n",
    "tokenizer = vectorizer.build_tokenizer()\n",
    "\n",
    "# Defining the bag_of_words function\n",
    "def bag_of_words(tw):\n",
    "      \n",
    "    unigram_ls = tokenizer(preprocessor(tw))\n",
    "    \n",
    "    #Create an empty dictionary\n",
    "    bag_words = {}\n",
    "    #Run through tokenized unigram list\n",
    "    for item in unigram_ls:\n",
    "        #Check to see if item is already a key in the dictionary\n",
    "        if item in bag_words.keys():\n",
    "            #If item already in dictionary as a key, increment key value by 1\n",
    "            bag_words[item] += 1\n",
    "        \n",
    "        else:\n",
    "            #For item in list, add item as key,set key value to 1\n",
    "            bag_words[item] = 1\n",
    "           \n",
    "    return bag_words\n",
    "\n",
    "\n",
    "\n",
    "# Defining the party function\n",
    "def party(tw):\n",
    "\n",
    "    #create a bag of words dictionary of the inputed tweet\n",
    "    bag_words = bag_of_words(tw)\n",
    "    \n",
    "    #Create lists holding the hashtag words for each of the parties\n",
    "    liberal_ls = ['realchange','justin','trudeau','liberal','justintrudeau','lpc','teamtrudeau','liberalparty','sophie','trudeau4pm','justin4pm']\n",
    "    conservative_ls = ['harper','cpc','conservative','stephen','stephenharper', 'conservativeparty','harper4pm']\n",
    "    ndp_ls = ['tommulcair','tom','mulcair','ndp','thomasmulcair','ready4change','mulcair4pm']\n",
    "    none_ls = ['greenparty', 'green', 'canadiangreens', 'gpc', 'elizabethmay']\n",
    "    \n",
    "    #create intial party dictionary to hold nubmer of times (count) a party's associated keyword occurs\n",
    "    party_dict = {'NDP':0, 'Liberal':0, 'Conservative':0,'None':0}\n",
    "    \n",
    "    for key in bag_words:\n",
    "        #Check if the key is a keyword in each of the political parties lists\n",
    "               \n",
    "        if key in liberal_ls:\n",
    "            # Increase the count for keywords of that party by the number of times that keyword occurs\n",
    "            party_dict['Liberal'] += bag_words[key]\n",
    "        \n",
    "        if key in conservative_ls:\n",
    "            # Increase the count for keywords of that party by the number of times that keyword occurs\n",
    "            party_dict['Conservative'] += bag_words[key]\n",
    "        \n",
    "        if key in ndp_ls:\n",
    "            # Increase the count for keywords of that party by the number of times that keyword occurs\n",
    "            party_dict['NDP'] += bag_words[key]\n",
    "        \n",
    "        if key in none_ls:\n",
    "            # Increase the count for keywords of that party by the number of times that keyword occurs\n",
    "            party_dict['None'] += bag_words[key]\n",
    "            \n",
    "    #create a new string party variable with default other\n",
    "    #and update its value based on the party with the most frequency of keywords/hashtags\n",
    "    party_name = 'None'\n",
    "    for key in party_dict:\n",
    "        if party_dict[key] > party_dict[party_name]:\n",
    "            #update party name value\n",
    "            party_name = key\n",
    "    \n",
    "    \n",
    "    return party_name"
   ]
  },
  {
   "cell_type": "markdown",
   "metadata": {},
   "source": [
    "Here, I used the relevant words and hashtags in the tweets that identify to certain political parties. For example if the tweet has something like #liberals, it might be possibly belong to the Liberal Party and soon for others as well."
   ]
  },
  {
   "cell_type": "code",
   "execution_count": 19,
   "metadata": {
    "colab": {
     "base_uri": "https://localhost:8080/",
     "height": 355
    },
    "colab_type": "code",
    "id": "H8dhMo9onnj3",
    "outputId": "976aecb7-3d87-409b-97ec-dbe100c6575b",
    "scrolled": true
   },
   "outputs": [
    {
     "data": {
      "text/html": [
       "<div>\n",
       "<style scoped>\n",
       "    .dataframe tbody tr th:only-of-type {\n",
       "        vertical-align: middle;\n",
       "    }\n",
       "\n",
       "    .dataframe tbody tr th {\n",
       "        vertical-align: top;\n",
       "    }\n",
       "\n",
       "    .dataframe thead th {\n",
       "        text-align: right;\n",
       "    }\n",
       "</style>\n",
       "<table border=\"1\" class=\"dataframe\">\n",
       "  <thead>\n",
       "    <tr style=\"text-align: right;\">\n",
       "      <th></th>\n",
       "      <th>sentiment</th>\n",
       "      <th>negative_reason</th>\n",
       "      <th>text</th>\n",
       "      <th>Party</th>\n",
       "    </tr>\n",
       "  </thead>\n",
       "  <tbody>\n",
       "    <tr>\n",
       "      <th>0</th>\n",
       "      <td>negative</td>\n",
       "      <td>Women Reproductive right and Racism</td>\n",
       "      <td>b\"@rosiebarton so instead of your suggestion, ...</td>\n",
       "      <td>None</td>\n",
       "    </tr>\n",
       "    <tr>\n",
       "      <th>1</th>\n",
       "      <td>positive</td>\n",
       "      <td>NaN</td>\n",
       "      <td>b\"#allwomanspacewalk it's real!\\n@space_statio...</td>\n",
       "      <td>None</td>\n",
       "    </tr>\n",
       "    <tr>\n",
       "      <th>2</th>\n",
       "      <td>negative</td>\n",
       "      <td>Economy</td>\n",
       "      <td>b\"#brantford it's going to cost you $94 billio...</td>\n",
       "      <td>Liberal</td>\n",
       "    </tr>\n",
       "    <tr>\n",
       "      <th>3</th>\n",
       "      <td>positive</td>\n",
       "      <td>NaN</td>\n",
       "      <td>b\"#canada #canadaelection2019 #canadavotes \\n#...</td>\n",
       "      <td>None</td>\n",
       "    </tr>\n",
       "    <tr>\n",
       "      <th>4</th>\n",
       "      <td>negative</td>\n",
       "      <td>Economy</td>\n",
       "      <td>b\"#canada #taxpayers are sick &amp; tired of havin...</td>\n",
       "      <td>None</td>\n",
       "    </tr>\n",
       "    <tr>\n",
       "      <th>5</th>\n",
       "      <td>negative</td>\n",
       "      <td>Others</td>\n",
       "      <td>b\"#canadavotes2019 #elxn43 #cdnpoli - facts - ...</td>\n",
       "      <td>None</td>\n",
       "    </tr>\n",
       "    <tr>\n",
       "      <th>6</th>\n",
       "      <td>positive</td>\n",
       "      <td>NaN</td>\n",
       "      <td>b\"#cdnmedia #elxn43 #cdnpoli #ppc rocky dong h...</td>\n",
       "      <td>None</td>\n",
       "    </tr>\n",
       "    <tr>\n",
       "      <th>7</th>\n",
       "      <td>positive</td>\n",
       "      <td>NaN</td>\n",
       "      <td>b\"#cdnpoli #elxn43 the liberals ++ more than d...</td>\n",
       "      <td>NDP</td>\n",
       "    </tr>\n",
       "    <tr>\n",
       "      <th>8</th>\n",
       "      <td>negative</td>\n",
       "      <td>Others</td>\n",
       "      <td>b\"#chooseforward #cdnpoli #elxn43\\ncanada, don...</td>\n",
       "      <td>None</td>\n",
       "    </tr>\n",
       "    <tr>\n",
       "      <th>9</th>\n",
       "      <td>negative</td>\n",
       "      <td>Scandal</td>\n",
       "      <td>b\"#cpckinsellagate\\nlet's see the receipts. wh...</td>\n",
       "      <td>None</td>\n",
       "    </tr>\n",
       "  </tbody>\n",
       "</table>\n",
       "</div>"
      ],
      "text/plain": [
       "  sentiment                      negative_reason  \\\n",
       "0  negative  Women Reproductive right and Racism   \n",
       "1  positive                                  NaN   \n",
       "2  negative                              Economy   \n",
       "3  positive                                  NaN   \n",
       "4  negative                              Economy   \n",
       "5  negative                               Others   \n",
       "6  positive                                  NaN   \n",
       "7  positive                                  NaN   \n",
       "8  negative                               Others   \n",
       "9  negative                              Scandal   \n",
       "\n",
       "                                                text    Party  \n",
       "0  b\"@rosiebarton so instead of your suggestion, ...     None  \n",
       "1  b\"#allwomanspacewalk it's real!\\n@space_statio...     None  \n",
       "2  b\"#brantford it's going to cost you $94 billio...  Liberal  \n",
       "3  b\"#canada #canadaelection2019 #canadavotes \\n#...     None  \n",
       "4  b\"#canada #taxpayers are sick & tired of havin...     None  \n",
       "5  b\"#canadavotes2019 #elxn43 #cdnpoli - facts - ...     None  \n",
       "6  b\"#cdnmedia #elxn43 #cdnpoli #ppc rocky dong h...     None  \n",
       "7  b\"#cdnpoli #elxn43 the liberals ++ more than d...      NDP  \n",
       "8  b\"#chooseforward #cdnpoli #elxn43\\ncanada, don...     None  \n",
       "9  b\"#cpckinsellagate\\nlet's see the receipts. wh...     None  "
      ]
     },
     "execution_count": 19,
     "metadata": {},
     "output_type": "execute_result"
    }
   ],
   "source": [
    "# Run our Party assignement function through the data set\n",
    "election_tweets['Party'] = election_tweets['text'].apply(party)\n",
    "election_tweets.head(10)"
   ]
  },
  {
   "cell_type": "code",
   "execution_count": 20,
   "metadata": {
    "colab": {},
    "colab_type": "code",
    "id": "oCo-9kWQnnj8"
   },
   "outputs": [],
   "source": [
    "#removing non letter from election_tweets dataframe\n",
    "election_tweets['text']=election_tweets['text'].apply(remove_nonletter)"
   ]
  },
  {
   "cell_type": "code",
   "execution_count": 21,
   "metadata": {
    "colab": {
     "base_uri": "https://localhost:8080/",
     "height": 202
    },
    "colab_type": "code",
    "id": "xuYKploAnnkA",
    "outputId": "0c0b45ac-33de-4743-8ba8-1bd4fab67369"
   },
   "outputs": [
    {
     "data": {
      "text/html": [
       "<div>\n",
       "<style scoped>\n",
       "    .dataframe tbody tr th:only-of-type {\n",
       "        vertical-align: middle;\n",
       "    }\n",
       "\n",
       "    .dataframe tbody tr th {\n",
       "        vertical-align: top;\n",
       "    }\n",
       "\n",
       "    .dataframe thead th {\n",
       "        text-align: right;\n",
       "    }\n",
       "</style>\n",
       "<table border=\"1\" class=\"dataframe\">\n",
       "  <thead>\n",
       "    <tr style=\"text-align: right;\">\n",
       "      <th></th>\n",
       "      <th>sentiment</th>\n",
       "      <th>negative_reason</th>\n",
       "      <th>text</th>\n",
       "      <th>Party</th>\n",
       "    </tr>\n",
       "  </thead>\n",
       "  <tbody>\n",
       "    <tr>\n",
       "      <th>0</th>\n",
       "      <td>negative</td>\n",
       "      <td>Women Reproductive right and Racism</td>\n",
       "      <td>b rosiebarton so instead of your suggestion  h...</td>\n",
       "      <td>None</td>\n",
       "    </tr>\n",
       "    <tr>\n",
       "      <th>1</th>\n",
       "      <td>positive</td>\n",
       "      <td>NaN</td>\n",
       "      <td>b allwomanspacewalk it s real n space station ...</td>\n",
       "      <td>None</td>\n",
       "    </tr>\n",
       "    <tr>\n",
       "      <th>2</th>\n",
       "      <td>negative</td>\n",
       "      <td>Economy</td>\n",
       "      <td>b brantford it s going to cost you   billion f...</td>\n",
       "      <td>Liberal</td>\n",
       "    </tr>\n",
       "    <tr>\n",
       "      <th>3</th>\n",
       "      <td>positive</td>\n",
       "      <td>NaN</td>\n",
       "      <td>b canada  canadaelection   canadavotes  n elxn...</td>\n",
       "      <td>None</td>\n",
       "    </tr>\n",
       "    <tr>\n",
       "      <th>4</th>\n",
       "      <td>negative</td>\n",
       "      <td>Economy</td>\n",
       "      <td>b canada  taxpayers are sick   tired of having...</td>\n",
       "      <td>None</td>\n",
       "    </tr>\n",
       "  </tbody>\n",
       "</table>\n",
       "</div>"
      ],
      "text/plain": [
       "  sentiment                      negative_reason  \\\n",
       "0  negative  Women Reproductive right and Racism   \n",
       "1  positive                                  NaN   \n",
       "2  negative                              Economy   \n",
       "3  positive                                  NaN   \n",
       "4  negative                              Economy   \n",
       "\n",
       "                                                text    Party  \n",
       "0  b rosiebarton so instead of your suggestion  h...     None  \n",
       "1  b allwomanspacewalk it s real n space station ...     None  \n",
       "2  b brantford it s going to cost you   billion f...  Liberal  \n",
       "3  b canada  canadaelection   canadavotes  n elxn...     None  \n",
       "4  b canada  taxpayers are sick   tired of having...     None  "
      ]
     },
     "execution_count": 21,
     "metadata": {},
     "output_type": "execute_result"
    }
   ],
   "source": [
    "election_tweets.head()"
   ]
  },
  {
   "cell_type": "markdown",
   "metadata": {
    "colab_type": "text",
    "id": "CU-BIaHZnnkD"
   },
   "source": [
    "### 1.5 Remove stop words\n",
    "Using stop word list from the natural language tool kit to remove words that are part of the common speech. These are not keywords that carry unique meaning, thus should be removed from the tweets so that the model can analyze only the keywords within the tweet."
   ]
  },
  {
   "cell_type": "code",
   "execution_count": 22,
   "metadata": {
    "colab": {},
    "colab_type": "code",
    "id": "c-gb2PVlnnkE"
   },
   "outputs": [],
   "source": [
    "# getting ntlk stop word list into dataframe\n",
    "from nltk.corpus import stopwords \n",
    "stop_words_ntlk=pd.DataFrame(data=list(stopwords.words('english')), columns=['word'])\n",
    "stop_words_combined=stop_words_ntlk"
   ]
  },
  {
   "cell_type": "code",
   "execution_count": 23,
   "metadata": {
    "colab": {
     "base_uri": "https://localhost:8080/",
     "height": 202
    },
    "colab_type": "code",
    "id": "cEzJJCkMnnkI",
    "outputId": "5605e118-daba-4094-dbc0-def5e080c388"
   },
   "outputs": [
    {
     "data": {
      "text/html": [
       "<div>\n",
       "<style scoped>\n",
       "    .dataframe tbody tr th:only-of-type {\n",
       "        vertical-align: middle;\n",
       "    }\n",
       "\n",
       "    .dataframe tbody tr th {\n",
       "        vertical-align: top;\n",
       "    }\n",
       "\n",
       "    .dataframe thead th {\n",
       "        text-align: right;\n",
       "    }\n",
       "</style>\n",
       "<table border=\"1\" class=\"dataframe\">\n",
       "  <thead>\n",
       "    <tr style=\"text-align: right;\">\n",
       "      <th></th>\n",
       "      <th>class</th>\n",
       "      <th>id</th>\n",
       "      <th>date</th>\n",
       "      <th>query</th>\n",
       "      <th>user</th>\n",
       "      <th>text</th>\n",
       "    </tr>\n",
       "  </thead>\n",
       "  <tbody>\n",
       "    <tr>\n",
       "      <th>0</th>\n",
       "      <td>0</td>\n",
       "      <td>1467810369</td>\n",
       "      <td>Mon Apr 06 22:19:45 PDT 2009</td>\n",
       "      <td>NO_QUERY</td>\n",
       "      <td>_TheSpecialOne_</td>\n",
       "      <td>[switchfoot, bummer, shoulda, got, david, carr...</td>\n",
       "    </tr>\n",
       "    <tr>\n",
       "      <th>1</th>\n",
       "      <td>0</td>\n",
       "      <td>1467810672</td>\n",
       "      <td>Mon Apr 06 22:19:49 PDT 2009</td>\n",
       "      <td>NO_QUERY</td>\n",
       "      <td>scotthamilton</td>\n",
       "      <td>[upset, update, facebook, texting, might, cry,...</td>\n",
       "    </tr>\n",
       "    <tr>\n",
       "      <th>2</th>\n",
       "      <td>0</td>\n",
       "      <td>1467810917</td>\n",
       "      <td>Mon Apr 06 22:19:53 PDT 2009</td>\n",
       "      <td>NO_QUERY</td>\n",
       "      <td>mattycus</td>\n",
       "      <td>[kenichan, dived, many, times, ball, managed, ...</td>\n",
       "    </tr>\n",
       "    <tr>\n",
       "      <th>3</th>\n",
       "      <td>0</td>\n",
       "      <td>1467811184</td>\n",
       "      <td>Mon Apr 06 22:19:57 PDT 2009</td>\n",
       "      <td>NO_QUERY</td>\n",
       "      <td>ElleCTF</td>\n",
       "      <td>[whole, body, feels, itchy, like, fire]</td>\n",
       "    </tr>\n",
       "    <tr>\n",
       "      <th>4</th>\n",
       "      <td>0</td>\n",
       "      <td>1467811193</td>\n",
       "      <td>Mon Apr 06 22:19:57 PDT 2009</td>\n",
       "      <td>NO_QUERY</td>\n",
       "      <td>Karoli</td>\n",
       "      <td>[nationwideclass, behaving, mad, see]</td>\n",
       "    </tr>\n",
       "  </tbody>\n",
       "</table>\n",
       "</div>"
      ],
      "text/plain": [
       "   class          id                          date     query             user  \\\n",
       "0      0  1467810369  Mon Apr 06 22:19:45 PDT 2009  NO_QUERY  _TheSpecialOne_   \n",
       "1      0  1467810672  Mon Apr 06 22:19:49 PDT 2009  NO_QUERY    scotthamilton   \n",
       "2      0  1467810917  Mon Apr 06 22:19:53 PDT 2009  NO_QUERY         mattycus   \n",
       "3      0  1467811184  Mon Apr 06 22:19:57 PDT 2009  NO_QUERY          ElleCTF   \n",
       "4      0  1467811193  Mon Apr 06 22:19:57 PDT 2009  NO_QUERY           Karoli   \n",
       "\n",
       "                                                text  \n",
       "0  [switchfoot, bummer, shoulda, got, david, carr...  \n",
       "1  [upset, update, facebook, texting, might, cry,...  \n",
       "2  [kenichan, dived, many, times, ball, managed, ...  \n",
       "3            [whole, body, feels, itchy, like, fire]  \n",
       "4              [nationwideclass, behaving, mad, see]  "
      ]
     },
     "execution_count": 23,
     "metadata": {},
     "output_type": "execute_result"
    }
   ],
   "source": [
    "#removing stop words for generic tweets\n",
    "generic_tweets['text']=generic_tweets['text'].apply(lambda x : x.split())\n",
    "generic_tweets['text']=generic_tweets['text'].apply(lambda y : [word for word in y if word not in stop_words_combined.values])\n",
    "generic_tweets.head()"
   ]
  },
  {
   "cell_type": "code",
   "execution_count": 24,
   "metadata": {
    "colab": {
     "base_uri": "https://localhost:8080/",
     "height": 202
    },
    "colab_type": "code",
    "id": "UABe5jpjnnkK",
    "outputId": "21cfd6dc-7460-4dc2-bd3e-dcf4f10665c8"
   },
   "outputs": [
    {
     "data": {
      "text/html": [
       "<div>\n",
       "<style scoped>\n",
       "    .dataframe tbody tr th:only-of-type {\n",
       "        vertical-align: middle;\n",
       "    }\n",
       "\n",
       "    .dataframe tbody tr th {\n",
       "        vertical-align: top;\n",
       "    }\n",
       "\n",
       "    .dataframe thead th {\n",
       "        text-align: right;\n",
       "    }\n",
       "</style>\n",
       "<table border=\"1\" class=\"dataframe\">\n",
       "  <thead>\n",
       "    <tr style=\"text-align: right;\">\n",
       "      <th></th>\n",
       "      <th>sentiment</th>\n",
       "      <th>negative_reason</th>\n",
       "      <th>text</th>\n",
       "      <th>Party</th>\n",
       "    </tr>\n",
       "  </thead>\n",
       "  <tbody>\n",
       "    <tr>\n",
       "      <th>0</th>\n",
       "      <td>negative</td>\n",
       "      <td>Women Reproductive right and Racism</td>\n",
       "      <td>[b, rosiebarton, instead, suggestion, agree, c...</td>\n",
       "      <td>None</td>\n",
       "    </tr>\n",
       "    <tr>\n",
       "      <th>1</th>\n",
       "      <td>positive</td>\n",
       "      <td>NaN</td>\n",
       "      <td>[b, allwomanspacewalk, real, n, space, station...</td>\n",
       "      <td>None</td>\n",
       "    </tr>\n",
       "    <tr>\n",
       "      <th>2</th>\n",
       "      <td>negative</td>\n",
       "      <td>Economy</td>\n",
       "      <td>[b, brantford, going, cost, billion, next, yea...</td>\n",
       "      <td>Liberal</td>\n",
       "    </tr>\n",
       "    <tr>\n",
       "      <th>3</th>\n",
       "      <td>positive</td>\n",
       "      <td>NaN</td>\n",
       "      <td>[b, canada, canadaelection, canadavotes, n, el...</td>\n",
       "      <td>None</td>\n",
       "    </tr>\n",
       "    <tr>\n",
       "      <th>4</th>\n",
       "      <td>negative</td>\n",
       "      <td>Economy</td>\n",
       "      <td>[b, canada, taxpayers, sick, tired, hard, earn...</td>\n",
       "      <td>None</td>\n",
       "    </tr>\n",
       "  </tbody>\n",
       "</table>\n",
       "</div>"
      ],
      "text/plain": [
       "  sentiment                      negative_reason  \\\n",
       "0  negative  Women Reproductive right and Racism   \n",
       "1  positive                                  NaN   \n",
       "2  negative                              Economy   \n",
       "3  positive                                  NaN   \n",
       "4  negative                              Economy   \n",
       "\n",
       "                                                text    Party  \n",
       "0  [b, rosiebarton, instead, suggestion, agree, c...     None  \n",
       "1  [b, allwomanspacewalk, real, n, space, station...     None  \n",
       "2  [b, brantford, going, cost, billion, next, yea...  Liberal  \n",
       "3  [b, canada, canadaelection, canadavotes, n, el...     None  \n",
       "4  [b, canada, taxpayers, sick, tired, hard, earn...     None  "
      ]
     },
     "execution_count": 24,
     "metadata": {},
     "output_type": "execute_result"
    }
   ],
   "source": [
    "#removing stop words for election tweets\n",
    "election_tweets['text']=election_tweets['text'].apply(lambda x : x.split())\n",
    "election_tweets['text']=election_tweets['text'].apply(lambda y : [word for word in y if word not in stop_words_combined.values])\n",
    "election_tweets.head()"
   ]
  },
  {
   "cell_type": "markdown",
   "metadata": {
    "colab_type": "text",
    "id": "uYAIZF4JnnkN"
   },
   "source": [
    "### 1.6 Lemmatising\n",
    "Lemmatising each words within a tweet to return each word to the base or dictionay form of a word. This condenses variations of one word into its base form.\n",
    "\n",
    "Lemmatising is chosen over stemming as it is usually more precise than Stemming. Stemming is a crude process that removes the end of the word to attempt to return the word to its base form, where as Lemmatization uses a vocabulary and morphological analysis of the word to return it to its base form. Lemmatization is more computationally expensive than stemming, however, given the dataset is small in this analysis, the computation cost is negligable."
   ]
  },
  {
   "cell_type": "code",
   "execution_count": 25,
   "metadata": {
    "colab": {},
    "colab_type": "code",
    "id": "DzgOBP-CnnkN"
   },
   "outputs": [],
   "source": [
    "# construct lemmatising function\n",
    "\n",
    "from nltk.stem import WordNetLemmatizer\n",
    "lemmatizer = WordNetLemmatizer()\n",
    "\n",
    "def lemmatising (text):\n",
    "    x = [lemmatizer.lemmatize(word) for word in text]\n",
    "    return x"
   ]
  },
  {
   "cell_type": "code",
   "execution_count": 26,
   "metadata": {
    "colab": {
     "base_uri": "https://localhost:8080/",
     "height": 52
    },
    "colab_type": "code",
    "id": "LEzZdJ6bnnkP",
    "outputId": "40c12404-b466-4a06-a2ce-63cbc4ca6333"
   },
   "outputs": [
    {
     "name": "stderr",
     "output_type": "stream",
     "text": [
      "[nltk_data] Downloading package wordnet to\n",
      "[nltk_data]     C:\\Users\\krish\\AppData\\Roaming\\nltk_data...\n",
      "[nltk_data]   Package wordnet is already up-to-date!\n"
     ]
    }
   ],
   "source": [
    "#applying lemmatization to each dataset\n",
    "import nltk\n",
    "nltk.download('wordnet')\n",
    "\n",
    "generic_tweets['text']=generic_tweets.text.apply(lemmatising)\n",
    "election_tweets['text']=election_tweets.text.apply(lemmatising)"
   ]
  },
  {
   "cell_type": "code",
   "execution_count": 27,
   "metadata": {
    "colab": {
     "base_uri": "https://localhost:8080/",
     "height": 202
    },
    "colab_type": "code",
    "id": "IWvYgDA1nnkS",
    "outputId": "dddb7571-b4dd-47fc-9f32-49ff5526113c"
   },
   "outputs": [
    {
     "data": {
      "text/html": [
       "<div>\n",
       "<style scoped>\n",
       "    .dataframe tbody tr th:only-of-type {\n",
       "        vertical-align: middle;\n",
       "    }\n",
       "\n",
       "    .dataframe tbody tr th {\n",
       "        vertical-align: top;\n",
       "    }\n",
       "\n",
       "    .dataframe thead th {\n",
       "        text-align: right;\n",
       "    }\n",
       "</style>\n",
       "<table border=\"1\" class=\"dataframe\">\n",
       "  <thead>\n",
       "    <tr style=\"text-align: right;\">\n",
       "      <th></th>\n",
       "      <th>sentiment</th>\n",
       "      <th>negative_reason</th>\n",
       "      <th>text</th>\n",
       "      <th>Party</th>\n",
       "    </tr>\n",
       "  </thead>\n",
       "  <tbody>\n",
       "    <tr>\n",
       "      <th>0</th>\n",
       "      <td>negative</td>\n",
       "      <td>Women Reproductive right and Racism</td>\n",
       "      <td>[b, rosiebarton, instead, suggestion, agree, c...</td>\n",
       "      <td>None</td>\n",
       "    </tr>\n",
       "    <tr>\n",
       "      <th>1</th>\n",
       "      <td>positive</td>\n",
       "      <td>NaN</td>\n",
       "      <td>[b, allwomanspacewalk, real, n, space, station...</td>\n",
       "      <td>None</td>\n",
       "    </tr>\n",
       "    <tr>\n",
       "      <th>2</th>\n",
       "      <td>negative</td>\n",
       "      <td>Economy</td>\n",
       "      <td>[b, brantford, going, cost, billion, next, yea...</td>\n",
       "      <td>Liberal</td>\n",
       "    </tr>\n",
       "    <tr>\n",
       "      <th>3</th>\n",
       "      <td>positive</td>\n",
       "      <td>NaN</td>\n",
       "      <td>[b, canada, canadaelection, canadavotes, n, el...</td>\n",
       "      <td>None</td>\n",
       "    </tr>\n",
       "    <tr>\n",
       "      <th>4</th>\n",
       "      <td>negative</td>\n",
       "      <td>Economy</td>\n",
       "      <td>[b, canada, taxpayer, sick, tired, hard, earne...</td>\n",
       "      <td>None</td>\n",
       "    </tr>\n",
       "  </tbody>\n",
       "</table>\n",
       "</div>"
      ],
      "text/plain": [
       "  sentiment                      negative_reason  \\\n",
       "0  negative  Women Reproductive right and Racism   \n",
       "1  positive                                  NaN   \n",
       "2  negative                              Economy   \n",
       "3  positive                                  NaN   \n",
       "4  negative                              Economy   \n",
       "\n",
       "                                                text    Party  \n",
       "0  [b, rosiebarton, instead, suggestion, agree, c...     None  \n",
       "1  [b, allwomanspacewalk, real, n, space, station...     None  \n",
       "2  [b, brantford, going, cost, billion, next, yea...  Liberal  \n",
       "3  [b, canada, canadaelection, canadavotes, n, el...     None  \n",
       "4  [b, canada, taxpayer, sick, tired, hard, earne...     None  "
      ]
     },
     "execution_count": 27,
     "metadata": {},
     "output_type": "execute_result"
    }
   ],
   "source": [
    "election_tweets.head()"
   ]
  },
  {
   "cell_type": "code",
   "execution_count": 28,
   "metadata": {
    "colab": {
     "base_uri": "https://localhost:8080/",
     "height": 202
    },
    "colab_type": "code",
    "id": "1Rvg06CYnnkU",
    "outputId": "09052503-ec97-43fe-feb5-585ceec46e76"
   },
   "outputs": [
    {
     "data": {
      "text/html": [
       "<div>\n",
       "<style scoped>\n",
       "    .dataframe tbody tr th:only-of-type {\n",
       "        vertical-align: middle;\n",
       "    }\n",
       "\n",
       "    .dataframe tbody tr th {\n",
       "        vertical-align: top;\n",
       "    }\n",
       "\n",
       "    .dataframe thead th {\n",
       "        text-align: right;\n",
       "    }\n",
       "</style>\n",
       "<table border=\"1\" class=\"dataframe\">\n",
       "  <thead>\n",
       "    <tr style=\"text-align: right;\">\n",
       "      <th></th>\n",
       "      <th>class</th>\n",
       "      <th>id</th>\n",
       "      <th>date</th>\n",
       "      <th>query</th>\n",
       "      <th>user</th>\n",
       "      <th>text</th>\n",
       "    </tr>\n",
       "  </thead>\n",
       "  <tbody>\n",
       "    <tr>\n",
       "      <th>0</th>\n",
       "      <td>0</td>\n",
       "      <td>1467810369</td>\n",
       "      <td>Mon Apr 06 22:19:45 PDT 2009</td>\n",
       "      <td>NO_QUERY</td>\n",
       "      <td>_TheSpecialOne_</td>\n",
       "      <td>[switchfoot, bummer, shoulda, got, david, carr...</td>\n",
       "    </tr>\n",
       "    <tr>\n",
       "      <th>1</th>\n",
       "      <td>0</td>\n",
       "      <td>1467810672</td>\n",
       "      <td>Mon Apr 06 22:19:49 PDT 2009</td>\n",
       "      <td>NO_QUERY</td>\n",
       "      <td>scotthamilton</td>\n",
       "      <td>[upset, update, facebook, texting, might, cry,...</td>\n",
       "    </tr>\n",
       "    <tr>\n",
       "      <th>2</th>\n",
       "      <td>0</td>\n",
       "      <td>1467810917</td>\n",
       "      <td>Mon Apr 06 22:19:53 PDT 2009</td>\n",
       "      <td>NO_QUERY</td>\n",
       "      <td>mattycus</td>\n",
       "      <td>[kenichan, dived, many, time, ball, managed, s...</td>\n",
       "    </tr>\n",
       "    <tr>\n",
       "      <th>3</th>\n",
       "      <td>0</td>\n",
       "      <td>1467811184</td>\n",
       "      <td>Mon Apr 06 22:19:57 PDT 2009</td>\n",
       "      <td>NO_QUERY</td>\n",
       "      <td>ElleCTF</td>\n",
       "      <td>[whole, body, feel, itchy, like, fire]</td>\n",
       "    </tr>\n",
       "    <tr>\n",
       "      <th>4</th>\n",
       "      <td>0</td>\n",
       "      <td>1467811193</td>\n",
       "      <td>Mon Apr 06 22:19:57 PDT 2009</td>\n",
       "      <td>NO_QUERY</td>\n",
       "      <td>Karoli</td>\n",
       "      <td>[nationwideclass, behaving, mad, see]</td>\n",
       "    </tr>\n",
       "  </tbody>\n",
       "</table>\n",
       "</div>"
      ],
      "text/plain": [
       "   class          id                          date     query             user  \\\n",
       "0      0  1467810369  Mon Apr 06 22:19:45 PDT 2009  NO_QUERY  _TheSpecialOne_   \n",
       "1      0  1467810672  Mon Apr 06 22:19:49 PDT 2009  NO_QUERY    scotthamilton   \n",
       "2      0  1467810917  Mon Apr 06 22:19:53 PDT 2009  NO_QUERY         mattycus   \n",
       "3      0  1467811184  Mon Apr 06 22:19:57 PDT 2009  NO_QUERY          ElleCTF   \n",
       "4      0  1467811193  Mon Apr 06 22:19:57 PDT 2009  NO_QUERY           Karoli   \n",
       "\n",
       "                                                text  \n",
       "0  [switchfoot, bummer, shoulda, got, david, carr...  \n",
       "1  [upset, update, facebook, texting, might, cry,...  \n",
       "2  [kenichan, dived, many, time, ball, managed, s...  \n",
       "3             [whole, body, feel, itchy, like, fire]  \n",
       "4              [nationwideclass, behaving, mad, see]  "
      ]
     },
     "execution_count": 28,
     "metadata": {},
     "output_type": "execute_result"
    }
   ],
   "source": [
    "generic_tweets.head()"
   ]
  },
  {
   "cell_type": "markdown",
   "metadata": {
    "colab_type": "text",
    "id": "P1RenjexnnkW"
   },
   "source": [
    "# 2.Exploratory Analysis"
   ]
  },
  {
   "cell_type": "code",
   "execution_count": 29,
   "metadata": {
    "colab": {
     "base_uri": "https://localhost:8080/",
     "height": 277
    },
    "colab_type": "code",
    "id": "z3uwHB6jnnkX",
    "outputId": "b7b9e5a3-0672-4479-a7f3-30d21e47e107"
   },
   "outputs": [
    {
     "name": "stdout",
     "output_type": "stream",
     "text": [
      "None            0.686357\n",
      "Liberal         0.170183\n",
      "Conservative    0.083919\n",
      "NDP             0.059541\n",
      "Name: Party, dtype: float64\n",
      "\n",
      "\n",
      "None            1464\n",
      "Liberal          363\n",
      "Conservative     179\n",
      "NDP              127\n",
      "Name: Party, dtype: int64\n",
      "\n",
      "\n",
      "Total Tweet Count: 2133\n"
     ]
    }
   ],
   "source": [
    "print(election_tweets['Party'].value_counts(normalize=True));print('\\n')\n",
    "print(election_tweets['Party'].value_counts());print('\\n')\n",
    "print('Total Tweet Count: '+ str(election_tweets['Party'].value_counts().values.sum()))"
   ]
  },
  {
   "cell_type": "markdown",
   "metadata": {},
   "source": [
    "From the above total tweet counts we can see that, apart from \"None\" category, Liberals have most tweets and then comes the Conservative and NDP."
   ]
  },
  {
   "cell_type": "code",
   "execution_count": 30,
   "metadata": {
    "colab": {
     "base_uri": "https://localhost:8080/",
     "height": 202
    },
    "colab_type": "code",
    "id": "ePZhdncznnkb",
    "outputId": "ca9a0442-fc87-4e98-b1e4-3202b46c9c21"
   },
   "outputs": [
    {
     "data": {
      "text/html": [
       "<div>\n",
       "<style scoped>\n",
       "    .dataframe tbody tr th:only-of-type {\n",
       "        vertical-align: middle;\n",
       "    }\n",
       "\n",
       "    .dataframe tbody tr th {\n",
       "        vertical-align: top;\n",
       "    }\n",
       "\n",
       "    .dataframe thead th {\n",
       "        text-align: right;\n",
       "    }\n",
       "</style>\n",
       "<table border=\"1\" class=\"dataframe\">\n",
       "  <thead>\n",
       "    <tr style=\"text-align: right;\">\n",
       "      <th></th>\n",
       "      <th>negative</th>\n",
       "      <th>positive</th>\n",
       "      <th>%neg</th>\n",
       "      <th>%pos</th>\n",
       "      <th>total</th>\n",
       "    </tr>\n",
       "    <tr>\n",
       "      <th>Party</th>\n",
       "      <th></th>\n",
       "      <th></th>\n",
       "      <th></th>\n",
       "      <th></th>\n",
       "      <th></th>\n",
       "    </tr>\n",
       "  </thead>\n",
       "  <tbody>\n",
       "    <tr>\n",
       "      <th>None</th>\n",
       "      <td>643</td>\n",
       "      <td>821</td>\n",
       "      <td>43.9</td>\n",
       "      <td>56.1</td>\n",
       "      <td>1464</td>\n",
       "    </tr>\n",
       "    <tr>\n",
       "      <th>Liberal</th>\n",
       "      <td>198</td>\n",
       "      <td>165</td>\n",
       "      <td>54.5</td>\n",
       "      <td>45.5</td>\n",
       "      <td>363</td>\n",
       "    </tr>\n",
       "    <tr>\n",
       "      <th>Conservative</th>\n",
       "      <td>126</td>\n",
       "      <td>53</td>\n",
       "      <td>70.4</td>\n",
       "      <td>29.6</td>\n",
       "      <td>179</td>\n",
       "    </tr>\n",
       "    <tr>\n",
       "      <th>NDP</th>\n",
       "      <td>39</td>\n",
       "      <td>88</td>\n",
       "      <td>30.7</td>\n",
       "      <td>69.3</td>\n",
       "      <td>127</td>\n",
       "    </tr>\n",
       "  </tbody>\n",
       "</table>\n",
       "</div>"
      ],
      "text/plain": [
       "              negative  positive  %neg  %pos  total\n",
       "Party                                              \n",
       "None               643       821  43.9  56.1   1464\n",
       "Liberal            198       165  54.5  45.5    363\n",
       "Conservative       126        53  70.4  29.6    179\n",
       "NDP                 39        88  30.7  69.3    127"
      ]
     },
     "execution_count": 30,
     "metadata": {},
     "output_type": "execute_result"
    }
   ],
   "source": [
    "# Printing the total positive and negative sentiments for each of the party:\n",
    "\n",
    "tmp1=election_tweets[election_tweets.sentiment=='negative'].groupby('Party').sentiment.agg(['count'])\n",
    "tmp1.columns=['negative']\n",
    "tmp2=election_tweets[election_tweets.sentiment=='positive'].groupby('Party').sentiment.agg(['count'])\n",
    "tmp2.columns=['positive']\n",
    "tmp1=tmp1.join(tmp2).fillna(0)\n",
    "tmp1['%neg']=tmp1.apply(lambda x: round(int(x['negative'])/(int(x['positive'])+int(x['negative'])),3)*100,axis=1)\n",
    "tmp1['%pos']=tmp1.apply(lambda x: round(int(x['positive'])/(int(x['positive'])+int(x['negative'])),3)*100,axis=1)\n",
    "tmp1['total']=tmp1.apply(lambda x: (int(x['positive'])+int(x['negative'])),axis=1)\n",
    "tmp1=tmp1.sort_values(by=['total'], ascending=False)\n",
    "tmp2=None\n",
    "tmp1"
   ]
  },
  {
   "cell_type": "markdown",
   "metadata": {},
   "source": [
    "From the above dataframe, it is clear that the Liberals and NDP have high positive tweets than the Conservative party. Surprisingly, Liberals have almost equal number of positive and negative tweets. Conservatives have the most negative tweets than all others."
   ]
  },
  {
   "cell_type": "markdown",
   "metadata": {
    "colab_type": "text",
    "id": "CuN8X0Nonnke"
   },
   "source": [
    "### Data Visualization"
   ]
  },
  {
   "cell_type": "code",
   "execution_count": 31,
   "metadata": {
    "colab": {
     "base_uri": "https://localhost:8080/",
     "height": 202
    },
    "colab_type": "code",
    "id": "QXpFUqs2nnkf",
    "outputId": "f356128b-708f-4273-e928-5a563159beaf"
   },
   "outputs": [
    {
     "data": {
      "text/html": [
       "<div>\n",
       "<style scoped>\n",
       "    .dataframe tbody tr th:only-of-type {\n",
       "        vertical-align: middle;\n",
       "    }\n",
       "\n",
       "    .dataframe tbody tr th {\n",
       "        vertical-align: top;\n",
       "    }\n",
       "\n",
       "    .dataframe thead th {\n",
       "        text-align: right;\n",
       "    }\n",
       "</style>\n",
       "<table border=\"1\" class=\"dataframe\">\n",
       "  <thead>\n",
       "    <tr style=\"text-align: right;\">\n",
       "      <th></th>\n",
       "      <th>class</th>\n",
       "      <th>id</th>\n",
       "      <th>date</th>\n",
       "      <th>query</th>\n",
       "      <th>user</th>\n",
       "      <th>text</th>\n",
       "      <th>length</th>\n",
       "    </tr>\n",
       "  </thead>\n",
       "  <tbody>\n",
       "    <tr>\n",
       "      <th>0</th>\n",
       "      <td>0</td>\n",
       "      <td>1467810369</td>\n",
       "      <td>Mon Apr 06 22:19:45 PDT 2009</td>\n",
       "      <td>NO_QUERY</td>\n",
       "      <td>_TheSpecialOne_</td>\n",
       "      <td>[switchfoot, bummer, shoulda, got, david, carr...</td>\n",
       "      <td>8</td>\n",
       "    </tr>\n",
       "    <tr>\n",
       "      <th>1</th>\n",
       "      <td>0</td>\n",
       "      <td>1467810672</td>\n",
       "      <td>Mon Apr 06 22:19:49 PDT 2009</td>\n",
       "      <td>NO_QUERY</td>\n",
       "      <td>scotthamilton</td>\n",
       "      <td>[upset, update, facebook, texting, might, cry,...</td>\n",
       "      <td>11</td>\n",
       "    </tr>\n",
       "    <tr>\n",
       "      <th>2</th>\n",
       "      <td>0</td>\n",
       "      <td>1467810917</td>\n",
       "      <td>Mon Apr 06 22:19:53 PDT 2009</td>\n",
       "      <td>NO_QUERY</td>\n",
       "      <td>mattycus</td>\n",
       "      <td>[kenichan, dived, many, time, ball, managed, s...</td>\n",
       "      <td>10</td>\n",
       "    </tr>\n",
       "    <tr>\n",
       "      <th>3</th>\n",
       "      <td>0</td>\n",
       "      <td>1467811184</td>\n",
       "      <td>Mon Apr 06 22:19:57 PDT 2009</td>\n",
       "      <td>NO_QUERY</td>\n",
       "      <td>ElleCTF</td>\n",
       "      <td>[whole, body, feel, itchy, like, fire]</td>\n",
       "      <td>6</td>\n",
       "    </tr>\n",
       "    <tr>\n",
       "      <th>4</th>\n",
       "      <td>0</td>\n",
       "      <td>1467811193</td>\n",
       "      <td>Mon Apr 06 22:19:57 PDT 2009</td>\n",
       "      <td>NO_QUERY</td>\n",
       "      <td>Karoli</td>\n",
       "      <td>[nationwideclass, behaving, mad, see]</td>\n",
       "      <td>4</td>\n",
       "    </tr>\n",
       "  </tbody>\n",
       "</table>\n",
       "</div>"
      ],
      "text/plain": [
       "   class          id                          date     query             user  \\\n",
       "0      0  1467810369  Mon Apr 06 22:19:45 PDT 2009  NO_QUERY  _TheSpecialOne_   \n",
       "1      0  1467810672  Mon Apr 06 22:19:49 PDT 2009  NO_QUERY    scotthamilton   \n",
       "2      0  1467810917  Mon Apr 06 22:19:53 PDT 2009  NO_QUERY         mattycus   \n",
       "3      0  1467811184  Mon Apr 06 22:19:57 PDT 2009  NO_QUERY          ElleCTF   \n",
       "4      0  1467811193  Mon Apr 06 22:19:57 PDT 2009  NO_QUERY           Karoli   \n",
       "\n",
       "                                                text  length  \n",
       "0  [switchfoot, bummer, shoulda, got, david, carr...       8  \n",
       "1  [upset, update, facebook, texting, might, cry,...      11  \n",
       "2  [kenichan, dived, many, time, ball, managed, s...      10  \n",
       "3             [whole, body, feel, itchy, like, fire]       6  \n",
       "4              [nationwideclass, behaving, mad, see]       4  "
      ]
     },
     "execution_count": 31,
     "metadata": {},
     "output_type": "execute_result"
    }
   ],
   "source": [
    "# visualizing the distribution of the tweets using its length\n",
    "\n",
    "generic_tweets['length'] = generic_tweets['text'].apply(len)\n",
    "generic_tweets.head()"
   ]
  },
  {
   "cell_type": "code",
   "execution_count": 32,
   "metadata": {
    "colab": {
     "base_uri": "https://localhost:8080/",
     "height": 341
    },
    "colab_type": "code",
    "id": "LZH1sCfxnnkh",
    "outputId": "8c8768ac-5f04-43ed-c7c4-034ba0750fb9"
   },
   "outputs": [
    {
     "data": {
      "text/plain": [
       "Text(-0.04, 0.5, 'Frequency')"
      ]
     },
     "execution_count": 32,
     "metadata": {},
     "output_type": "execute_result"
    },
    {
     "data": {
      "image/png": "[encoded data removed]",
      "text/plain": [
       "<Figure size 432x288 with 2 Axes>"
      ]
     },
     "metadata": {
      "needs_background": "light"
     },
     "output_type": "display_data"
    }
   ],
   "source": [
    "fig, axes = plt.subplots(nrows=1, ncols=2, sharex=True, sharey=True)\n",
    "generic_tweets.hist('length', by='class', ax=axes)\n",
    "plt.suptitle('Length of Tweet for Positive/Negative Sentiment', x=0.5, y=1.05, ha='center', fontsize='xx-large')\n",
    "fig.text(0.5, 0.04, 'Length Bin', ha='center')\n",
    "fig.text(-0.04, 0.5, 'Frequency', va='center', rotation='vertical')"
   ]
  },
  {
   "cell_type": "markdown",
   "metadata": {},
   "source": [
    "From the above distribution, we can see that almost both the Positive/Negative tweet lengths are almost similar."
   ]
  },
  {
   "cell_type": "code",
   "execution_count": 33,
   "metadata": {
    "colab": {
     "base_uri": "https://localhost:8080/",
     "height": 316
    },
    "colab_type": "code",
    "id": "CiCXdIxhnnkk",
    "outputId": "0edb1e77-ce41-4a00-ec43-c40b900dd5b6"
   },
   "outputs": [
    {
     "data": {
      "text/plain": [
       "array([[<matplotlib.axes._subplots.AxesSubplot object at 0x0000026BF413DEF0>]],\n",
       "      dtype=object)"
      ]
     },
     "execution_count": 33,
     "metadata": {},
     "output_type": "execute_result"
    },
    {
     "data": {
      "image/png": "[encoded data removed]",
      "text/plain": [
       "<Figure size 432x288 with 1 Axes>"
      ]
     },
     "metadata": {
      "needs_background": "light"
     },
     "output_type": "display_data"
    }
   ],
   "source": [
    "# visualizing how tweets are there for each sentiment\n",
    "generic_tweets.hist('class')"
   ]
  },
  {
   "cell_type": "markdown",
   "metadata": {},
   "source": [
    "It is clear that both the classes in the generic tweet data are distributed equally."
   ]
  },
  {
   "cell_type": "code",
   "execution_count": 34,
   "metadata": {
    "colab": {
     "base_uri": "https://localhost:8080/",
     "height": 429
    },
    "colab_type": "code",
    "id": "lol2eRqfnnkm",
    "outputId": "9eee86f8-4405-457e-f19a-892655d13a9e"
   },
   "outputs": [
    {
     "data": {
      "image/png": "[encoded data removed]",
      "text/plain": [
       "<Figure size 504x504 with 1 Axes>"
      ]
     },
     "metadata": {},
     "output_type": "display_data"
    }
   ],
   "source": [
    "labels = list(election_tweets['Party'].value_counts().keys())\n",
    "sizes = list(election_tweets['Party'].value_counts().values)\n",
    "explode = (0, 0.25, 0.5, 0.5) \n",
    "\n",
    "fig1, ax1 = plt.subplots()\n",
    "ax1.pie(sizes, labels=labels,explode=explode, autopct='%1.2f%%', startangle=90, shadow=True)\n",
    "ax1.axis('equal')  # Equal aspect ratio ensures that pie is drawn as a circle.\n",
    "fig = plt.gcf()\n",
    "fig.set_size_inches(7,7)\n",
    "plt.title('Party Distribution', fontsize=16)\n",
    "plt.show()"
   ]
  },
  {
   "cell_type": "code",
   "execution_count": 35,
   "metadata": {
    "colab": {
     "base_uri": "https://localhost:8080/",
     "height": 191
    },
    "colab_type": "code",
    "id": "AoLoa-2mnnkp",
    "outputId": "6ff812b2-08a4-4f0f-a5bf-e9e0eccfc222"
   },
   "outputs": [
    {
     "name": "stdout",
     "output_type": "stream",
     "text": [
      "Party         sentiment\n",
      "Conservative  negative     126\n",
      "              positive      53\n",
      "Liberal       negative     198\n",
      "              positive     165\n",
      "NDP           negative      39\n",
      "              positive      88\n",
      "None          negative     643\n",
      "              positive     821\n",
      "dtype: int64\n"
     ]
    }
   ],
   "source": [
    "# Grouping election tweets by 'party', 'sentiment' \n",
    "\n",
    "election_tweets_group2 = election_tweets.groupby(['Party', 'sentiment']).size()\n",
    "print(election_tweets_group2)"
   ]
  },
  {
   "cell_type": "code",
   "execution_count": 36,
   "metadata": {
    "colab": {
     "base_uri": "https://localhost:8080/",
     "height": 369
    },
    "colab_type": "code",
    "id": "jMEe56vrnnkt",
    "outputId": "f816c010-5348-4663-dd04-6fad4eda0354"
   },
   "outputs": [
    {
     "data": {
      "text/plain": [
       "Text(0.5, 1.0, 'Comparison of Positive/Negative Tweets for various parties')"
      ]
     },
     "execution_count": 36,
     "metadata": {},
     "output_type": "execute_result"
    },
    {
     "data": {
      "image/png": "[encoded data removed]",
      "text/plain": [
       "<Figure size 432x288 with 1 Axes>"
      ]
     },
     "metadata": {
      "needs_background": "light"
     },
     "output_type": "display_data"
    }
   ],
   "source": [
    "# Comparison of positive/negative reviews for different parties\n",
    "\n",
    "election_tweets_group2.unstack(fill_value=0).plot.bar()\n",
    "plt.ylabel('Counts of tweets')\n",
    "plt.title('Comparison of Positive/Negative Tweets for various parties')"
   ]
  },
  {
   "cell_type": "markdown",
   "metadata": {},
   "source": [
    "The above plot provides graphical representation of Count of Positive and Negative tweets for each parties."
   ]
  },
  {
   "cell_type": "code",
   "execution_count": 37,
   "metadata": {
    "colab": {},
    "colab_type": "code",
    "id": "D7qo0vSAnnkx"
   },
   "outputs": [],
   "source": [
    "# filter positive tweets \n",
    "generic_tweets_positive = generic_tweets[generic_tweets['class']==4]['text']\n",
    "\n",
    "# concatenate them into an array \n",
    "positive_words = ''\n",
    "for word in generic_tweets_positive:\n",
    "    positive_words += str(word)"
   ]
  },
  {
   "cell_type": "code",
   "execution_count": 38,
   "metadata": {
    "colab": {
     "base_uri": "https://localhost:8080/",
     "height": 382
    },
    "colab_type": "code",
    "id": "tsTCvrTpnnk1",
    "outputId": "f32d3233-cdf1-4b93-e172-cf4dd1cd77ca"
   },
   "outputs": [
    {
     "data": {
      "image/png": "[encoded data removed]",
      "text/plain": [
       "<Figure size 864x720 with 1 Axes>"
      ]
     },
     "metadata": {
      "needs_background": "light"
     },
     "output_type": "display_data"
    }
   ],
   "source": [
    "from wordcloud import WordCloud\n",
    "\n",
    "# show positive words in a wordcloud\n",
    "wordcloud = WordCloud(width=1600, height=800, max_font_size=200, background_color='white', colormap='inferno').generate(positive_words)\n",
    "plt.figure(figsize=(12,10))\n",
    "plt.imshow(wordcloud, interpolation=\"bilinear\")\n",
    "plt.axis(\"off\")\n",
    "plt.gca().set_title('Word Cloud for Positive Tweets')\n",
    "plt.show()"
   ]
  },
  {
   "cell_type": "markdown",
   "metadata": {},
   "source": [
    "From the above wordcloud, we can see that our function filtered the positive words from the positive tweets. Words such as \"good\", \"love\",\"happy\",thanks\" and so on are categorized perfectly into positive words."
   ]
  },
  {
   "cell_type": "markdown",
   "metadata": {
    "colab_type": "text",
    "id": "ndu3lwa6nnk5"
   },
   "source": [
    "# 3. Model Preparation"
   ]
  },
  {
   "cell_type": "code",
   "execution_count": 39,
   "metadata": {
    "colab": {},
    "colab_type": "code",
    "id": "nO0vdDaEnnk6"
   },
   "outputs": [],
   "source": [
    "#Importing all the necessary libraries for model preparation\n",
    "\n",
    "from sklearn.feature_extraction.text import CountVectorizer\n",
    "from sklearn.feature_extraction.text import TfidfTransformer\n",
    "from sklearn.model_selection import train_test_split\n",
    "from sklearn.metrics import confusion_matrix\n",
    "from sklearn.metrics import accuracy_score\n",
    "from sklearn.metrics import classification_report\n",
    "from sklearn import metrics"
   ]
  },
  {
   "cell_type": "code",
   "execution_count": 40,
   "metadata": {
    "colab": {},
    "colab_type": "code",
    "id": "ykBdCw5jnnk-"
   },
   "outputs": [],
   "source": [
    "# function for plotting confusion matrix\n",
    "import itertools\n",
    "def plot_confusion_matrix(cm, classes,\n",
    "                          normalize=False,\n",
    "                          title='Confusion matrix',\n",
    "                          cmap=plt.cm.Blues, fs=(12,12),font_size=12):\n",
    "    \"\"\"\n",
    "    This function prints and plots the confusion matrix.\n",
    "    Normalization can be applied by setting `normalize=True`.\n",
    "    \"\"\"\n",
    "    if normalize:\n",
    "        cm = cm.astype('float') / cm.sum(axis=1)[:, np.newaxis]\n",
    "\n",
    "    plt.figure(figsize=fs);\n",
    "    plt.imshow(cm, interpolation='nearest', cmap=cmap)\n",
    "    plt.title(title, fontsize=font_size)\n",
    "    plt.colorbar()\n",
    "    tick_marks = np.arange(len(classes))\n",
    "    plt.xticks(tick_marks, classes, rotation=45)\n",
    "    plt.yticks(tick_marks, classes)\n",
    "\n",
    "    fmt = '.2f' if normalize else 'd'\n",
    "    thresh = cm.max() / 2.\n",
    "    for i, j in itertools.product(range(cm.shape[0]), range(cm.shape[1])):\n",
    "        plt.text(j, i, format(cm[i, j], fmt),\n",
    "                 horizontalalignment=\"center\",\n",
    "                 color=\"white\" if cm[i, j] > thresh else \"black\")\n",
    "\n",
    "    plt.ylabel('True label', fontsize=font_size-2)\n",
    "    plt.xlabel('Predicted label', fontsize=font_size-2)\n",
    "    plt.tight_layout()"
   ]
  },
  {
   "cell_type": "code",
   "execution_count": 41,
   "metadata": {
    "colab": {},
    "colab_type": "code",
    "id": "GyCXwYt7nnlB"
   },
   "outputs": [],
   "source": [
    "#defining a function that put back the split tweet text back into a string for countvectorizer\n",
    "def make_str(text):\n",
    "    \"\"\"\n",
    "    this joins the previously split text back into a string for inputting the text into count vectorizer\n",
    "    \"\"\"\n",
    "    y=''\n",
    "    for x in text:\n",
    "        y= y+' '+x\n",
    "    return y"
   ]
  },
  {
   "cell_type": "markdown",
   "metadata": {
    "colab_type": "text",
    "id": "ild7MNZ3nnlE"
   },
   "source": [
    "## Model Preparation using Bag of words (Count Vectorizer):\n",
    "\n",
    "The model is prepared using the bag of word technique. Count vectorizer converts the tweet texts into a matrix of text tokens."
   ]
  },
  {
   "cell_type": "code",
   "execution_count": 42,
   "metadata": {
    "colab": {},
    "colab_type": "code",
    "id": "U2hcU1VQnnlF"
   },
   "outputs": [],
   "source": [
    "# make all the tweet text back into a single string, and assign posivie/negative sentiment to class 4/0\n",
    "\n",
    "generic_tweets_vec=generic_tweets.copy()\n",
    "generic_tweets_vec.text=generic_tweets_vec.text.apply(make_str)\n",
    "\n",
    "generic_tweets_vec['sentiment'] = np.where(generic_tweets_vec['class']==4, 'positive', 'negative')"
   ]
  },
  {
   "cell_type": "code",
   "execution_count": 43,
   "metadata": {
    "colab": {},
    "colab_type": "code",
    "id": "T_z02hINnnlL"
   },
   "outputs": [],
   "source": [
    "#constructing count vectorizer:\n",
    "\n",
    "cv = CountVectorizer()\n",
    "generic_tweets_count = cv.fit_transform(generic_tweets_vec.text) #fitting and transforming the generic tweet text using bag of words."
   ]
  },
  {
   "cell_type": "code",
   "execution_count": 44,
   "metadata": {
    "colab": {
     "base_uri": "https://localhost:8080/",
     "height": 52
    },
    "colab_type": "code",
    "id": "jgUP-dZknnlO",
    "outputId": "e237c061-6173-47ba-a4a8-7b2dab292f92"
   },
   "outputs": [
    {
     "data": {
      "text/plain": [
       "<200000x124991 sparse matrix of type '<class 'numpy.int64'>'\n",
       "\twith 1426239 stored elements in Compressed Sparse Row format>"
      ]
     },
     "execution_count": 44,
     "metadata": {},
     "output_type": "execute_result"
    }
   ],
   "source": [
    "generic_tweets_count "
   ]
  },
  {
   "cell_type": "code",
   "execution_count": 45,
   "metadata": {
    "colab": {},
    "colab_type": "code",
    "id": "S0nDjttmnnlS"
   },
   "outputs": [],
   "source": [
    "X=generic_tweets_count\n",
    "y=generic_tweets_vec['sentiment']\n",
    "\n",
    "#splitting the dataset into training and testing set.\n",
    "X_train, X_test, y_train, y_test=train_test_split(X,y,test_size=0.3, random_state=101)"
   ]
  },
  {
   "cell_type": "markdown",
   "metadata": {
    "colab_type": "text",
    "id": "QemezxYKnnlV"
   },
   "source": [
    "## Trying out various classifiers using pipeline for  bag of words:\n",
    "\n",
    "Here, I compared some of the common classifiers to find which one predicts well."
   ]
  },
  {
   "cell_type": "code",
   "execution_count": 46,
   "metadata": {
    "colab": {
     "base_uri": "https://localhost:8080/",
     "height": 485
    },
    "colab_type": "code",
    "id": "HXF1pt5snnlV",
    "outputId": "d8f89449-1dfe-4e85-a911-17c2945ca8b6"
   },
   "outputs": [
    {
     "name": "stdout",
     "output_type": "stream",
     "text": [
      "LogisticRegression(C=1.0, class_weight=None, dual=False, fit_intercept=True,\n",
      "          intercept_scaling=1, max_iter=100, multi_class='warn',\n",
      "          n_jobs=None, penalty='l2', random_state=None, solver='warn',\n",
      "          tol=0.0001, verbose=0, warm_start=False)\n",
      "Model score: 0.764\n",
      "KNeighborsClassifier(algorithm='auto', leaf_size=30, metric='minkowski',\n",
      "           metric_params=None, n_jobs=None, n_neighbors=2, p=2,\n",
      "           weights='uniform')\n",
      "Model score: 0.621\n",
      "DecisionTreeClassifier(class_weight=None, criterion='gini', max_depth=None,\n",
      "            max_features=None, max_leaf_nodes=None,\n",
      "            min_impurity_decrease=0.0, min_impurity_split=None,\n",
      "            min_samples_leaf=1, min_samples_split=2,\n",
      "            min_weight_fraction_leaf=0.0, presort=False, random_state=None,\n",
      "            splitter='best')\n",
      "Model score: 0.695\n",
      "RandomForestClassifier(bootstrap=True, class_weight=None, criterion='gini',\n",
      "            max_depth=None, max_features='auto', max_leaf_nodes=None,\n",
      "            min_impurity_decrease=0.0, min_impurity_split=None,\n",
      "            min_samples_leaf=1, min_samples_split=2,\n",
      "            min_weight_fraction_leaf=0.0, n_estimators=10, n_jobs=None,\n",
      "            oob_score=False, random_state=None, verbose=0,\n",
      "            warm_start=False)\n",
      "Model score: 0.724\n",
      "MultinomialNB(alpha=1.0, class_prior=None, fit_prior=True)\n",
      "Model score: 0.757\n"
     ]
    }
   ],
   "source": [
    "from sklearn.pipeline import Pipeline\n",
    "from sklearn.linear_model import LogisticRegression\n",
    "from sklearn.neighbors import KNeighborsClassifier\n",
    "from sklearn.svm import SVC\n",
    "from sklearn.tree import DecisionTreeClassifier\n",
    "from sklearn.ensemble import RandomForestClassifier, GradientBoostingClassifier\n",
    "from xgboost import XGBClassifier\n",
    "from sklearn.naive_bayes import MultinomialNB\n",
    "\n",
    "classifiers = [\n",
    "    LogisticRegression(),\n",
    "    KNeighborsClassifier(n_neighbors=2),\n",
    "    #SVC(), Computationally expensive because of the size of our spare matrix\n",
    "    DecisionTreeClassifier(),\n",
    "    RandomForestClassifier(),\n",
    "    #XGBClassifier(),  Computationally expensive because of the size of our spare matrix\n",
    "    #GradientBoostingClassifier(),  Computationally expensive because of the size of our spare matrix\n",
    "    MultinomialNB()\n",
    "   ]\n",
    "for classifier in classifiers:\n",
    "    pipeline = Pipeline(steps=[('classifier', classifier)])\n",
    "    pipeline.fit(X_train, y_train) \n",
    "    y_pred = pipeline.predict(X_test)\n",
    "    score = accuracy_score(y_test,y_pred)  \n",
    "    print(classifier)\n",
    "    print(\"Model score: %.3f\" % score)"
   ]
  },
  {
   "cell_type": "markdown",
   "metadata": {
    "colab_type": "text",
    "id": "802YaRqxnnlX"
   },
   "source": [
    "Out of all the classifiers we used to predict the accuracy on the test set, the Logistic Regression model performs better than others. So we will use the Logistic Regresion Model as our best model."
   ]
  },
  {
   "cell_type": "code",
   "execution_count": 47,
   "metadata": {
    "colab": {},
    "colab_type": "code",
    "id": "mMwFW9HMnnlY"
   },
   "outputs": [],
   "source": [
    "lg = LogisticRegression()\n",
    "lg.fit(X_train,y_train)\n",
    "\n",
    "lg_pred = lg.predict(X_test)"
   ]
  },
  {
   "cell_type": "code",
   "execution_count": 48,
   "metadata": {
    "colab": {
     "base_uri": "https://localhost:8080/",
     "height": 667
    },
    "colab_type": "code",
    "id": "HTa6vVGxnnlc",
    "outputId": "dbbc5de4-b2d2-4b37-e96f-336f06a6ad78"
   },
   "outputs": [
    {
     "name": "stdout",
     "output_type": "stream",
     "text": [
      "Prediction Accuracy Score: 76.4%\n",
      "\n",
      "\n",
      "              precision    recall  f1-score   support\n",
      "\n",
      "    negative       0.77      0.75      0.76     30109\n",
      "    positive       0.75      0.78      0.77     29891\n",
      "\n",
      "   micro avg       0.76      0.76      0.76     60000\n",
      "   macro avg       0.76      0.76      0.76     60000\n",
      "weighted avg       0.76      0.76      0.76     60000\n",
      "\n"
     ]
    },
    {
     "data": {
      "text/plain": [
       "<Figure size 432x288 with 0 Axes>"
      ]
     },
     "metadata": {},
     "output_type": "display_data"
    },
    {
     "data": {
      "image/png": "[encoded data removed]",
      "text/plain": [
       "<Figure size 432x432 with 2 Axes>"
      ]
     },
     "metadata": {
      "needs_background": "light"
     },
     "output_type": "display_data"
    }
   ],
   "source": [
    "#Predicting the result of the testing set using Bag of words:\n",
    "\n",
    "print ('Prediction Accuracy Score: ' + str(round(accuracy_score(y_test, lg_pred),3)*100) +'%')\n",
    "print ('\\n')\n",
    "print(classification_report(y_test,lg_pred))\n",
    "\n",
    "ticklabel=generic_tweets_vec['sentiment'].unique()\n",
    "cm=metrics.confusion_matrix(y_test, lg_pred, labels=ticklabel)\n",
    "plt.figure()\n",
    "plot_confusion_matrix(cm, classes=ticklabel, title='Generic Tweets Sentiment Prediction', fs=(6,6), font_size=14)"
   ]
  },
  {
   "cell_type": "markdown",
   "metadata": {
    "colab_type": "text",
    "id": "XO6T5HWsnnlk"
   },
   "source": [
    "## Model Preparation using TF-IDF Transformer:\n",
    "\n",
    "TFIDF transformer is a combination of TF transformer and IDF transformer. The TF transformer finds the frequency of each word that exists within the each tweet string. IDF transformer normalizes this frequency so that words that might have higher frequency because the tweet is longer gets the same weighting as if it was in a shorter tweet."
   ]
  },
  {
   "cell_type": "code",
   "execution_count": 49,
   "metadata": {
    "colab": {},
    "colab_type": "code",
    "id": "SFR_hQ9cnnll"
   },
   "outputs": [],
   "source": [
    "tf = TfidfTransformer()\n",
    "generic_tweets_tf = tf.fit_transform(generic_tweets_count)"
   ]
  },
  {
   "cell_type": "code",
   "execution_count": 50,
   "metadata": {
    "colab": {},
    "colab_type": "code",
    "id": "Ew2_Hajynnlp"
   },
   "outputs": [],
   "source": [
    "X=generic_tweets_tf\n",
    "y=generic_tweets_vec['sentiment']\n",
    "\n",
    "#splitting the dataset into training and testing set.\n",
    "X_train, X_test, y_train, y_test=train_test_split(X,y,test_size=0.3, random_state=101)"
   ]
  },
  {
   "cell_type": "markdown",
   "metadata": {},
   "source": [
    "## Trying out various classifiers using pipeline for TF-IDF model:\n",
    "\n",
    "Here, I compared some of the common classifiers to find which one predicts well."
   ]
  },
  {
   "cell_type": "code",
   "execution_count": 51,
   "metadata": {
    "colab": {
     "base_uri": "https://localhost:8080/",
     "height": 485
    },
    "colab_type": "code",
    "id": "YUl-vAAYnnlr",
    "outputId": "621c74f2-e3c8-4e24-cccb-1d2c5327863b"
   },
   "outputs": [
    {
     "name": "stdout",
     "output_type": "stream",
     "text": [
      "LogisticRegression(C=1.0, class_weight=None, dual=False, fit_intercept=True,\n",
      "          intercept_scaling=1, max_iter=100, multi_class='warn',\n",
      "          n_jobs=None, penalty='l2', random_state=None, solver='warn',\n",
      "          tol=0.0001, verbose=0, warm_start=False)\n",
      "Model score: 0.768\n",
      "KNeighborsClassifier(algorithm='auto', leaf_size=30, metric='minkowski',\n",
      "           metric_params=None, n_jobs=None, n_neighbors=2, p=2,\n",
      "           weights='uniform')\n",
      "Model score: 0.548\n",
      "DecisionTreeClassifier(class_weight=None, criterion='gini', max_depth=None,\n",
      "            max_features=None, max_leaf_nodes=None,\n",
      "            min_impurity_decrease=0.0, min_impurity_split=None,\n",
      "            min_samples_leaf=1, min_samples_split=2,\n",
      "            min_weight_fraction_leaf=0.0, presort=False, random_state=None,\n",
      "            splitter='best')\n",
      "Model score: 0.699\n",
      "RandomForestClassifier(bootstrap=True, class_weight=None, criterion='gini',\n",
      "            max_depth=None, max_features='auto', max_leaf_nodes=None,\n",
      "            min_impurity_decrease=0.0, min_impurity_split=None,\n",
      "            min_samples_leaf=1, min_samples_split=2,\n",
      "            min_weight_fraction_leaf=0.0, n_estimators=10, n_jobs=None,\n",
      "            oob_score=False, random_state=None, verbose=0,\n",
      "            warm_start=False)\n",
      "Model score: 0.734\n",
      "MultinomialNB(alpha=1.0, class_prior=None, fit_prior=True)\n",
      "Model score: 0.752\n"
     ]
    }
   ],
   "source": [
    "#Here, I am not running Support Vector Machines and XGB Classifier because it took very long time to compute the accuracy\n",
    "#and had very low accuracy than others. So I left those classifiers.\n",
    "\n",
    "classifiers = [\n",
    "    LogisticRegression(),\n",
    "    KNeighborsClassifier(n_neighbors=2),\n",
    "    #SVC(),\n",
    "    DecisionTreeClassifier(),\n",
    "    RandomForestClassifier(),\n",
    "    #XGBClassifier(),\n",
    "    MultinomialNB()\n",
    "   ]\n",
    "for classifier in classifiers:\n",
    "    pipeline = Pipeline(steps=[('classifier', classifier)])\n",
    "    pipeline.fit(X_train, y_train)   \n",
    "    y_pred = pipeline.predict(X_test)\n",
    "    score = accuracy_score(y_test,y_pred)  \n",
    "    print(classifier)\n",
    "    print(\"Model score: %.3f\" % score)"
   ]
  },
  {
   "cell_type": "markdown",
   "metadata": {},
   "source": [
    "From the above results we can see that, Logistic Regression gives a better accuracy than all the other classifiers. So, I will be using the Logistic Regression to predict the accuracy."
   ]
  },
  {
   "cell_type": "code",
   "execution_count": 52,
   "metadata": {
    "colab": {},
    "colab_type": "code",
    "id": "aKD3VcWLnnls"
   },
   "outputs": [],
   "source": [
    "from sklearn.linear_model import LogisticRegression\n",
    "\n",
    "lg = LogisticRegression()\n",
    "lg.fit(X_train,y_train)\n",
    "\n",
    "lg_pred_tf = lg.predict(X_test)"
   ]
  },
  {
   "cell_type": "code",
   "execution_count": 53,
   "metadata": {
    "colab": {
     "base_uri": "https://localhost:8080/",
     "height": 667
    },
    "colab_type": "code",
    "id": "5rO3uLe1nnlu",
    "outputId": "bf478621-9c0b-4144-e383-92463537e766"
   },
   "outputs": [
    {
     "name": "stdout",
     "output_type": "stream",
     "text": [
      "Prediction Accuracy Score: 76.8%\n",
      "\n",
      "\n",
      "              precision    recall  f1-score   support\n",
      "\n",
      "    negative       0.79      0.74      0.76     30109\n",
      "    positive       0.75      0.80      0.77     29891\n",
      "\n",
      "   micro avg       0.77      0.77      0.77     60000\n",
      "   macro avg       0.77      0.77      0.77     60000\n",
      "weighted avg       0.77      0.77      0.77     60000\n",
      "\n"
     ]
    },
    {
     "data": {
      "text/plain": [
       "<Figure size 432x288 with 0 Axes>"
      ]
     },
     "metadata": {},
     "output_type": "display_data"
    },
    {
     "data": {
      "image/png": "[encoded data removed]",
      "text/plain": [
       "<Figure size 432x432 with 2 Axes>"
      ]
     },
     "metadata": {
      "needs_background": "light"
     },
     "output_type": "display_data"
    }
   ],
   "source": [
    "#Predicting the result of the testing set using TF-IDF vectorizer:\n",
    "\n",
    "print ('Prediction Accuracy Score: ' + str(round(accuracy_score(y_test, lg_pred_tf),3)*100) +'%')\n",
    "print ('\\n')\n",
    "print(classification_report(y_test,lg_pred_tf))\n",
    "\n",
    "ticklabel=generic_tweets_vec['sentiment'].unique()\n",
    "cm=metrics.confusion_matrix(y_test, lg_pred_tf, labels=ticklabel)\n",
    "plt.figure()\n",
    "plot_confusion_matrix(cm, classes=ticklabel, title='Generic Tweets Sentiment Prediction', fs=(6,6), font_size=14)"
   ]
  },
  {
   "cell_type": "markdown",
   "metadata": {},
   "source": [
    "From the above results, we can see that the accuracy of the TF-IDF model was slightly more than the accuracy of the Bag of words model. So, I will be using the TF-IDF model on the election tweets to predict the sentiment of it."
   ]
  },
  {
   "cell_type": "markdown",
   "metadata": {
    "colab_type": "text",
    "id": "vI-ID6wRnnlw"
   },
   "source": [
    "# 4. Model Implementation"
   ]
  },
  {
   "cell_type": "markdown",
   "metadata": {
    "colab_type": "text",
    "id": "uFTh8gtfnnlx"
   },
   "source": [
    "### 4.1 Evaluating Election Model with  Generic Tweets Model :"
   ]
  },
  {
   "cell_type": "code",
   "execution_count": 54,
   "metadata": {
    "colab": {},
    "colab_type": "code",
    "id": "1kobOxr6nnlx"
   },
   "outputs": [],
   "source": [
    "election_tweets_vec=election_tweets.copy()\n",
    "election_tweets_vec.text=election_tweets_vec.text.apply(lambda x : make_str(x))"
   ]
  },
  {
   "cell_type": "code",
   "execution_count": 55,
   "metadata": {
    "colab": {},
    "colab_type": "code",
    "id": "b_-LkxZAnnl3"
   },
   "outputs": [],
   "source": [
    "election_tweets_count = cv.transform(election_tweets_vec.text)\n",
    "election_tweets_tf1 = tf.transform(election_tweets_count)"
   ]
  },
  {
   "cell_type": "markdown",
   "metadata": {
    "colab_type": "text",
    "id": "wbTuZOXMnnl8"
   },
   "source": [
    "Applying the generic tweet logistic regression model to the Election tweet data:"
   ]
  },
  {
   "cell_type": "code",
   "execution_count": 56,
   "metadata": {
    "colab": {},
    "colab_type": "code",
    "id": "A7ZU5IWcnnl9"
   },
   "outputs": [],
   "source": [
    "y_pred_election=lg.predict(election_tweets_tf1)"
   ]
  },
  {
   "cell_type": "code",
   "execution_count": 57,
   "metadata": {
    "colab": {
     "base_uri": "https://localhost:8080/",
     "height": 632
    },
    "colab_type": "code",
    "id": "t48q4p1NnnmA",
    "outputId": "d367812c-48c4-4721-a177-2ca718c57766"
   },
   "outputs": [
    {
     "name": "stdout",
     "output_type": "stream",
     "text": [
      "Prediction Accuracy Score: 60.0%\n",
      "              precision    recall  f1-score   support\n",
      "\n",
      "    negative       0.61      0.42      0.50      1006\n",
      "    positive       0.59      0.76      0.67      1127\n",
      "\n",
      "   micro avg       0.60      0.60      0.60      2133\n",
      "   macro avg       0.60      0.59      0.58      2133\n",
      "weighted avg       0.60      0.60      0.59      2133\n",
      "\n"
     ]
    },
    {
     "data": {
      "text/plain": [
       "<Figure size 432x288 with 0 Axes>"
      ]
     },
     "metadata": {},
     "output_type": "display_data"
    },
    {
     "data": {
      "image/png": "[encoded data removed]",
      "text/plain": [
       "<Figure size 432x432 with 2 Axes>"
      ]
     },
     "metadata": {
      "needs_background": "light"
     },
     "output_type": "display_data"
    }
   ],
   "source": [
    "# presenting the result of the model predictions\n",
    "ticklabel=election_tweets_vec.sentiment.unique()\n",
    "cm=metrics.confusion_matrix(election_tweets_vec.sentiment, y_pred_election, labels=ticklabel)\n",
    "plt.figure()\n",
    "plot_confusion_matrix(cm, classes=ticklabel, title='Canadian Election Tweets Sentiment Prediction', fs=(6,6), font_size=12)\n",
    "print ('Prediction Accuracy Score: '+str((round(accuracy_score(election_tweets_vec.sentiment, y_pred_election),3))*100)+'%')\n",
    "print(classification_report(election_tweets_vec.sentiment, y_pred_election))"
   ]
  },
  {
   "cell_type": "markdown",
   "metadata": {},
   "source": [
    "Our generic tweet model applied to the election tweet model, was able to get an accuracy of 60%. I would say our model did a good job because, it was trained on the generic tweet data and tested on a completely new data. Moving forward, we could futher refine our model using hyper parameter tuning."
   ]
  },
  {
   "cell_type": "markdown",
   "metadata": {
    "colab_type": "text",
    "id": "LZkHkKRdnnmC"
   },
   "source": [
    "## BONUS\n",
    "\n",
    "### Tried out n_grams feature tuning:"
   ]
  },
  {
   "cell_type": "code",
   "execution_count": 58,
   "metadata": {
    "colab": {
     "base_uri": "https://localhost:8080/",
     "height": 433
    },
    "colab_type": "code",
    "id": "nl-pxPssnnmC",
    "outputId": "9bb63e9c-f3cf-4de8-a613-b3a48d1159c3"
   },
   "outputs": [
    {
     "name": "stdout",
     "output_type": "stream",
     "text": [
      "Generic Tweets Test Set Accuracy: 0.768 x:(1, 1)\n",
      "Election Tweet Prediction Accuracy: 0.6 x:(1, 1)\n",
      "\n",
      "\n",
      "Generic Tweets Test Set Accuracy: 0.771 x:(1, 2)\n",
      "Election Tweet Prediction Accuracy: 0.603 x:(1, 2)\n",
      "\n",
      "\n",
      "Generic Tweets Test Set Accuracy: 0.768 x:(1, 3)\n",
      "Election Tweet Prediction Accuracy: 0.595 x:(1, 3)\n",
      "\n",
      "\n",
      "Generic Tweets Test Set Accuracy: 0.681 x:(2, 2)\n",
      "Election Tweet Prediction Accuracy: 0.571 x:(2, 2)\n",
      "\n",
      "\n",
      "Generic Tweets Test Set Accuracy: 0.678 x:(2, 3)\n",
      "Election Tweet Prediction Accuracy: 0.571 x:(2, 3)\n",
      "\n",
      "\n",
      "Generic Tweets Test Set Accuracy: 0.555 x:(3, 3)\n",
      "Election Tweet Prediction Accuracy: 0.529 x:(3, 3)\n",
      "\n",
      "\n"
     ]
    }
   ],
   "source": [
    "n_grams=[(1,1),(1,2),(1,3),(2,2),(2,3),(3,3)]\n",
    "\n",
    "for x in n_grams:\n",
    "    cv_1=CountVectorizer(ngram_range=(x))\n",
    "    tf = TfidfTransformer()\n",
    "\n",
    "    generic_tweets_n_grams=generic_tweets.copy()\n",
    "    generic_tweets_n_grams.text=generic_tweets_n_grams.text.apply(make_str)\n",
    "    generic_tweets_n_grams['sentiment'] = np.where(generic_tweets_n_grams['class']==4, 'positive', 'negative')\n",
    "    generic_count=cv_1.fit_transform(generic_tweets_n_grams.text)\n",
    "    generic_tf = tf.fit_transform(generic_count)\n",
    "    X=generic_tf\n",
    "    y=generic_tweets_n_grams['sentiment']\n",
    "    \n",
    "    X_train, X_test, y_train, y_test=train_test_split(X,y,test_size=0.3, random_state=101,shuffle = True)\n",
    "\n",
    "    model_ngrams=LogisticRegression(random_state=42)\n",
    "    model_ngrams.fit(X_train,y_train)\n",
    "    y_pred=model_ngrams.predict(X_test)\n",
    "\n",
    "    print ('Generic Tweets Test Set Accuracy: ' + str(round(accuracy_score(y_test, y_pred),3))+' x:' +str(x))\n",
    "\n",
    "    election_tweets_n_grams=election_tweets.copy()\n",
    "    election_tweets_n_grams.text=election_tweets_n_grams.text.apply(make_str)\n",
    "\n",
    "    election_count=cv_1.transform(election_tweets_n_grams.text)\n",
    "    election_tf = tf.transform(election_count)\n",
    "\n",
    "    y_pred_election_n_grams=model_ngrams.predict(election_tf)\n",
    "    print ('Election Tweet Prediction Accuracy: ' + str(round(accuracy_score(election_tweets_vec.sentiment, y_pred_election_n_grams),3))+' x:' +str(x))\n",
    "    print ('\\n')"
   ]
  },
  {
   "cell_type": "markdown",
   "metadata": {},
   "source": [
    "Using n_grams feature we were able to increase the acccuracy of our model from 60% to 60.3% which might not look like a major improvement, but it might help our model to predict better sentiment results. Since the election tweet model has very less data compared to generic tweets, the model was able to grasp every detail from the data."
   ]
  },
  {
   "cell_type": "markdown",
   "metadata": {
    "colab_type": "text",
    "id": "0bgwbx08nnmE"
   },
   "source": [
    "## Hyper parameter tuning of Logistic Regression: C"
   ]
  },
  {
   "cell_type": "code",
   "execution_count": 59,
   "metadata": {
    "colab": {
     "base_uri": "https://localhost:8080/",
     "height": 433
    },
    "colab_type": "code",
    "id": "1PRySJ1HnnmG",
    "outputId": "a05646a4-f202-44d8-8f04-b7e06d893748"
   },
   "outputs": [
    {
     "name": "stdout",
     "output_type": "stream",
     "text": [
      "Generic Tweets Test Set Accuracy: 0.771 C_param:1\n",
      "Election Tweet Prediction Accuracy: 0.603 C_param:1\n",
      "\n",
      "\n",
      "Generic Tweets Test Set Accuracy: 0.775 C_param:3\n",
      "Election Tweet Prediction Accuracy: 0.61 C_param:3\n",
      "\n",
      "\n",
      "Generic Tweets Test Set Accuracy: 0.775 C_param:5\n",
      "Election Tweet Prediction Accuracy: 0.609 C_param:5\n",
      "\n",
      "\n",
      "Generic Tweets Test Set Accuracy: 0.774 C_param:7\n",
      "Election Tweet Prediction Accuracy: 0.611 C_param:7\n",
      "\n",
      "\n",
      "Generic Tweets Test Set Accuracy: 0.774 C_param:9\n",
      "Election Tweet Prediction Accuracy: 0.614 C_param:9\n",
      "\n",
      "\n",
      "Generic Tweets Test Set Accuracy: 0.774 C_param:11\n",
      "Election Tweet Prediction Accuracy: 0.613 C_param:11\n",
      "\n",
      "\n"
     ]
    }
   ],
   "source": [
    "C_range=[1,3,5,7,9,11]\n",
    "generic=[]\n",
    "election=[]\n",
    "for x in C_range:\n",
    "    cv_2=CountVectorizer(ngram_range=(1,2))\n",
    "    tf = TfidfTransformer()\n",
    "\n",
    "    generic_tweets_c_params=generic_tweets.copy()\n",
    "    generic_tweets_c_params.text=generic_tweets_c_params.text.apply(make_str)\n",
    "    generic_tweets_c_params['sentiment'] = np.where(generic_tweets_c_params['class']==4, 'positive', 'negative')\n",
    "    generic_count=cv_2.fit_transform(generic_tweets_c_params.text)\n",
    "    generic_tf = tf.fit_transform(generic_count)\n",
    "    \n",
    "    X=generic_tf\n",
    "    Y=generic_tweets_c_params['sentiment']\n",
    "    \n",
    "    \n",
    "    X_train, X_test, y_train, y_test=train_test_split(X,y,test_size=0.3, random_state=101)\n",
    "\n",
    "    model_c_params=LogisticRegression(C=x, random_state=0)\n",
    "    model_c_params.fit(X_train,y_train)\n",
    "    y_pred=model_c_params.predict(X_test)\n",
    "    \n",
    "    print ('Generic Tweets Test Set Accuracy: ' + str(round(accuracy_score(y_test, y_pred),3))+' C_param:' +str(x))\n",
    "    generic.append(round(accuracy_score(y_test, y_pred),3))\n",
    "    \n",
    "    election_tweets_c_params=election_tweets.copy()\n",
    "    election_tweets_c_params.text=election_tweets_c_params.text.apply(make_str)\n",
    "\n",
    "    election_count=cv_2.transform(election_tweets_c_params.text)\n",
    "    election_tf = tf.transform(election_count)\n",
    "\n",
    "    y_pred_election_c_params=model_c_params.predict(election_tf)\n",
    "    \n",
    "    print ('Election Tweet Prediction Accuracy: ' + str(round(accuracy_score(election_tweets_vec.sentiment, y_pred_election_c_params),3))+' C_param:' +str(x))\n",
    "    election.append(round(accuracy_score(election_tweets_vec.sentiment, y_pred_election_c_params),3))\n",
    "    \n",
    "    print ('\\n')"
   ]
  },
  {
   "cell_type": "code",
   "execution_count": 60,
   "metadata": {
    "colab": {
     "base_uri": "https://localhost:8080/",
     "height": 301
    },
    "colab_type": "code",
    "id": "S-2scMFV1Vnx",
    "outputId": "1273a578-f82d-4584-b0a5-e3c8f6e25317"
   },
   "outputs": [
    {
     "data": {
      "image/png": "[encoded data removed]",
      "text/plain": [
       "<Figure size 432x288 with 1 Axes>"
      ]
     },
     "metadata": {
      "needs_background": "light"
     },
     "output_type": "display_data"
    }
   ],
   "source": [
    "test_set,=plt.plot(C_range, generic, color='blue', label='testing_set')\n",
    "prediction_set,=plt.plot(C_range, election, color='red', label='prediction_set')\n",
    "plt.title('C Hyperparameter Turning Curve', fontsize=16)\n",
    "plt.xlabel('C range',fontsize=14)\n",
    "plt.ylabel('Accuracy ',fontsize=14)\n",
    "plt.legend()\n",
    "plt.show()"
   ]
  },
  {
   "cell_type": "markdown",
   "metadata": {},
   "source": [
    "I took 'C' as my hyperparameter for the Logistic Regression model, and tried to tune it using a wide range of values and predicted the accuracy with each and every value. From the above plot, we can see that our model accuracy on prediction data increases to 61.4% from 60% at C=9.\n",
    "\n",
    "Performing more hyperparameter tuning can really fine tune our model to predict well on the election tweet data."
   ]
  },
  {
   "cell_type": "markdown",
   "metadata": {
    "colab_type": "text",
    "id": "RKeHu9konnmK"
   },
   "source": [
    "## 4.2\n",
    "\n",
    "### Election tweet Multi class Logistic Regression model:"
   ]
  },
  {
   "cell_type": "code",
   "execution_count": 61,
   "metadata": {
    "colab": {},
    "colab_type": "code",
    "id": "XByv8qBsnnmL"
   },
   "outputs": [],
   "source": [
    "election_tweets_neg=election_tweets_vec[election_tweets_vec.sentiment=='negative']"
   ]
  },
  {
   "cell_type": "code",
   "execution_count": 62,
   "metadata": {
    "colab": {
     "base_uri": "https://localhost:8080/",
     "height": 208
    },
    "colab_type": "code",
    "id": "RMx4Kl_TnnmN",
    "outputId": "bc510047-c419-4551-aba5-b2c0d1acb157"
   },
   "outputs": [
    {
     "data": {
      "text/plain": [
       "Others                                 364\n",
       "Scandal                                270\n",
       "Tell lies                              198\n",
       "Economy                                 51\n",
       "Women Reproductive right and Racism     45\n",
       "Climate Problem                         41\n",
       "Separation                              16\n",
       "Privilege                               12\n",
       "Healthcare                               5\n",
       "Healthcare and Marijuana                 4\n",
       "Name: negative_reason, dtype: int64"
      ]
     },
     "execution_count": 62,
     "metadata": {},
     "output_type": "execute_result"
    }
   ],
   "source": [
    "election_tweets_neg.negative_reason.value_counts()"
   ]
  },
  {
   "cell_type": "code",
   "execution_count": 63,
   "metadata": {
    "colab": {
     "base_uri": "https://localhost:8080/",
     "height": 35
    },
    "colab_type": "code",
    "id": "yNpiNRGynnmP",
    "outputId": "d50b75d7-2cc7-4347-81f1-4a8f60e71f87"
   },
   "outputs": [
    {
     "data": {
      "text/plain": [
       "(1006, 4930)"
      ]
     },
     "execution_count": 63,
     "metadata": {},
     "output_type": "execute_result"
    }
   ],
   "source": [
    "cv_multi=CountVectorizer()\n",
    "tf_multi = TfidfTransformer()\n",
    "\n",
    "election_tweets_neg_count=cv_multi.fit_transform(election_tweets_neg.text)\n",
    "election_tweet_neg_tf = tf_multi.fit_transform(election_tweets_neg_count)\n",
    "\n",
    "election_tweet_neg_tf.shape"
   ]
  },
  {
   "cell_type": "code",
   "execution_count": 64,
   "metadata": {
    "colab": {},
    "colab_type": "code",
    "id": "rQFVeMXEnnmS"
   },
   "outputs": [],
   "source": [
    "#splitting the dataset into testing and training data\n",
    "X_multi=election_tweet_neg_tf\n",
    "Y_multi=election_tweets_neg[election_tweets_neg.sentiment=='negative'].negative_reason\n",
    "\n",
    "X_multi_train, X_multi_test, Y_multi_train, Y_multi_test = train_test_split(X_multi,Y_multi,test_size=0.3, random_state=101)"
   ]
  },
  {
   "cell_type": "markdown",
   "metadata": {},
   "source": [
    "## Tried out various classifiers using pipeline:"
   ]
  },
  {
   "cell_type": "code",
   "execution_count": 65,
   "metadata": {},
   "outputs": [
    {
     "name": "stdout",
     "output_type": "stream",
     "text": [
      "LogisticRegression(C=1.0, class_weight=None, dual=False, fit_intercept=True,\n",
      "          intercept_scaling=1, max_iter=100, multi_class='warn',\n",
      "          n_jobs=None, penalty='l2', random_state=None, solver='warn',\n",
      "          tol=0.0001, verbose=0, warm_start=False)\n",
      "Model score: 0.404\n",
      "KNeighborsClassifier(algorithm='auto', leaf_size=30, metric='minkowski',\n",
      "           metric_params=None, n_jobs=None, n_neighbors=5, p=2,\n",
      "           weights='uniform')\n",
      "Model score: 0.427\n",
      "MultinomialNB(alpha=1.0, class_prior=None, fit_prior=True)\n",
      "Model score: 0.377\n"
     ]
    }
   ],
   "source": [
    "classifiers = [\n",
    "    LogisticRegression(),\n",
    "    KNeighborsClassifier(),\n",
    "    MultinomialNB()\n",
    "   ]\n",
    "for classifier in classifiers:\n",
    "    pipeline = Pipeline(steps=[('classifier', classifier)])\n",
    "    pipeline.fit(X_multi_train, Y_multi_train)   \n",
    "    y_pred_multi = pipeline.predict(X_multi_test)\n",
    "    score = accuracy_score(Y_multi_test,y_pred_multi)  \n",
    "    print(classifier)\n",
    "    print(\"Model score: %.3f\" % score)"
   ]
  },
  {
   "cell_type": "markdown",
   "metadata": {},
   "source": [
    "From the above accuracy results, we can see that KNeighbour Classifier was able to predict the test data with higher accuracy than others. So, I will be using KNN model on the multiclass data for further analysis."
   ]
  },
  {
   "cell_type": "code",
   "execution_count": 66,
   "metadata": {
    "colab": {},
    "colab_type": "code",
    "id": "5Fc1mcRWnnmT"
   },
   "outputs": [],
   "source": [
    "# construct an instance of KNeighbours Classifier\n",
    "model_multi = KNeighborsClassifier()\n",
    "model_multi.fit(X_multi_train, Y_multi_train)\n",
    "\n",
    "y_multi_predict = model_multi.predict(X_multi_test)"
   ]
  },
  {
   "cell_type": "code",
   "execution_count": 67,
   "metadata": {
    "colab": {
     "base_uri": "https://localhost:8080/",
     "height": 1000
    },
    "colab_type": "code",
    "id": "8Uo_5A-knnmX",
    "outputId": "fef25cc0-7ee2-444a-f88f-89358a2ca6b7"
   },
   "outputs": [
    {
     "name": "stdout",
     "output_type": "stream",
     "text": [
      "Prediction Acuracy: 42.699999999999996%\n",
      "                                     precision    recall  f1-score   support\n",
      "\n",
      "                    Climate Problem       0.80      0.24      0.36        17\n",
      "                            Economy       0.57      0.53      0.55        15\n",
      "                         Healthcare       0.00      0.00      0.00         3\n",
      "                             Others       0.39      0.70      0.50        94\n",
      "                          Privilege       0.00      0.00      0.00         2\n",
      "                            Scandal       0.44      0.39      0.41        93\n",
      "                         Separation       1.00      0.20      0.33         5\n",
      "                          Tell lies       0.43      0.16      0.23        63\n",
      "Women Reproductive right and Racism       0.50      0.40      0.44        10\n",
      "\n",
      "                          micro avg       0.43      0.43      0.43       302\n",
      "                          macro avg       0.46      0.29      0.32       302\n",
      "                       weighted avg       0.46      0.43      0.40       302\n",
      "\n"
     ]
    },
    {
     "data": {
      "text/plain": [
       "<Figure size 432x288 with 0 Axes>"
      ]
     },
     "metadata": {},
     "output_type": "display_data"
    },
    {
     "data": {
      "image/png": "[encoded data removed]",
      "text/plain": [
       "<Figure size 864x864 with 2 Axes>"
      ]
     },
     "metadata": {
      "needs_background": "light"
     },
     "output_type": "display_data"
    }
   ],
   "source": [
    "ticklabel=election_tweets_neg[election_tweets_neg.sentiment=='negative'].negative_reason.unique()\n",
    "cm=metrics.confusion_matrix(Y_multi_test, y_multi_predict, labels=ticklabel)\n",
    "plt.figure()\n",
    "plot_confusion_matrix(cm, classes=ticklabel, title='Election Negative Reason Predictions', fs=(12,12), font_size=16)\n",
    "print ('Prediction Acuracy: '+str(round(accuracy_score(Y_multi_test, y_multi_predict),3)*100)+'%')\n",
    "print(classification_report(Y_multi_test,y_multi_predict))"
   ]
  },
  {
   "cell_type": "markdown",
   "metadata": {},
   "source": [
    "## Reason for combining some of negative reasons:\n",
    "\n",
    "Here, I combined some of the negative reasons into one another because of the following reasons.\n",
    "I combined \"Separation\" and \"Privilege\" into \"Women Reproductive right and Racism\" because, I felt Racism and Separation had a similar connection between them and Womens Reproductive right and Privilege had similar connection.\n",
    "I combined \"Healthcare and Marijuana\" grouped to \"Healthcare\" because both of them deal with healthcare stuff. \n",
    "Scandal and Tell lies are similar to each other because they deal with almost similar ideology, so I combined them together.\n",
    "Climate Problem obviously affects the Economy in one way or other, so I combined both of them."
   ]
  },
  {
   "cell_type": "code",
   "execution_count": 68,
   "metadata": {
    "colab": {},
    "colab_type": "code",
    "id": "_L-I6UQJnnma"
   },
   "outputs": [],
   "source": [
    "election_tweets_neg['negative_reason'] = election_tweets_neg['negative_reason'].str.replace(\"Separation\",\"Women Reproductive right and Racism\")\n",
    "election_tweets_neg['negative_reason'] = election_tweets_neg['negative_reason'].str.replace(\"Healthcare and Marijuana\",\"Healthcare\")\n",
    "election_tweets_neg['negative_reason'] = election_tweets_neg['negative_reason'].str.replace(\"Healthcare\",\"Others\")\n",
    "election_tweets_neg['negative_reason'] = election_tweets_neg['negative_reason'].str.replace(\"Tell lies\",\"Scandal\")\n",
    "election_tweets_neg['negative_reason'] = election_tweets_neg['negative_reason'].str.replace(\"Climate Problem\",\"Economy\")\n",
    "election_tweets_neg['negative_reason'] = election_tweets_neg['negative_reason'].str.replace(\"Privilege\",\"Women Reproductive right and Racism\")"
   ]
  },
  {
   "cell_type": "code",
   "execution_count": 69,
   "metadata": {
    "colab": {
     "base_uri": "https://localhost:8080/",
     "height": 104
    },
    "colab_type": "code",
    "id": "IfifGDERnnme",
    "outputId": "0905bcfd-bfc4-4fd7-fe32-5f64795768d4"
   },
   "outputs": [
    {
     "data": {
      "text/plain": [
       "Scandal                                468\n",
       "Others                                 373\n",
       "Economy                                 92\n",
       "Women Reproductive right and Racism     73\n",
       "Name: negative_reason, dtype: int64"
      ]
     },
     "execution_count": 69,
     "metadata": {},
     "output_type": "execute_result"
    }
   ],
   "source": [
    "election_tweets_neg.negative_reason.value_counts()"
   ]
  },
  {
   "cell_type": "markdown",
   "metadata": {},
   "source": [
    "After combining, I reduced the negative reasons from 10 categories to 4 categories, so that it might help our multi class model to improve the accuracy."
   ]
  },
  {
   "cell_type": "code",
   "execution_count": 70,
   "metadata": {
    "colab": {},
    "colab_type": "code",
    "id": "ULg0LdBjnnmg"
   },
   "outputs": [],
   "source": [
    "cv_multi1=CountVectorizer()\n",
    "tf_multi1 = TfidfTransformer()\n",
    "\n",
    "election_tweets_neg_count1=cv_multi1.fit_transform(election_tweets_neg.text)\n",
    "election_tweet_neg_tf1 = tf_multi1.fit_transform(election_tweets_neg_count)"
   ]
  },
  {
   "cell_type": "code",
   "execution_count": 71,
   "metadata": {
    "colab": {},
    "colab_type": "code",
    "id": "8NuJlGDVnnmi"
   },
   "outputs": [],
   "source": [
    "#splitting the dataset into testing and training data\n",
    "X_multi=election_tweet_neg_tf1\n",
    "y_multi=election_tweets_neg[election_tweets_neg.sentiment=='negative'].negative_reason\n",
    "\n",
    "X_multi_train, X_multi_test, y_multi_train, y_multi_test = train_test_split(X_multi,y_multi,test_size=0.3, random_state=101)"
   ]
  },
  {
   "cell_type": "code",
   "execution_count": 72,
   "metadata": {},
   "outputs": [
    {
     "name": "stdout",
     "output_type": "stream",
     "text": [
      "LogisticRegression(C=1.0, class_weight=None, dual=False, fit_intercept=True,\n",
      "          intercept_scaling=1, max_iter=100, multi_class='warn',\n",
      "          n_jobs=None, penalty='l2', random_state=None, solver='warn',\n",
      "          tol=0.0001, verbose=0, warm_start=False)\n",
      "Model score: 0.570\n",
      "KNeighborsClassifier(algorithm='auto', leaf_size=30, metric='minkowski',\n",
      "           metric_params=None, n_jobs=None, n_neighbors=5, p=2,\n",
      "           weights='uniform')\n",
      "Model score: 0.556\n",
      "MultinomialNB(alpha=1.0, class_prior=None, fit_prior=True)\n",
      "Model score: 0.556\n"
     ]
    }
   ],
   "source": [
    "classifiers = [\n",
    "    LogisticRegression(),\n",
    "    KNeighborsClassifier(),\n",
    "    MultinomialNB()\n",
    "   ]\n",
    "for classifier in classifiers:\n",
    "    pipeline = Pipeline(steps=[('classifier', classifier)])\n",
    "    pipeline.fit(X_multi_train, y_multi_train)   \n",
    "    y_pred_multi = pipeline.predict(X_multi_test)\n",
    "    score = accuracy_score(y_multi_test,y_pred_multi)  \n",
    "    print(classifier)\n",
    "    print(\"Model score: %.3f\" % score)"
   ]
  },
  {
   "cell_type": "markdown",
   "metadata": {},
   "source": [
    "After combining, some of the negative reasons the Logistic Regression model gave better accuracy than other classifiers. So, I will be using the Logistic Regression model a my classifier to predict the accuracy."
   ]
  },
  {
   "cell_type": "code",
   "execution_count": 73,
   "metadata": {
    "colab": {},
    "colab_type": "code",
    "id": "PCDikknLnnmk"
   },
   "outputs": [],
   "source": [
    "# construct an instance of logistic regression function\n",
    "lg_multi = LogisticRegression()\n",
    "lg_multi.fit(X_multi_train, y_multi_train)\n",
    "\n",
    "y_multi_predict = lg_multi.predict(X_multi_test)"
   ]
  },
  {
   "cell_type": "code",
   "execution_count": 74,
   "metadata": {
    "colab": {
     "base_uri": "https://localhost:8080/",
     "height": 1000
    },
    "colab_type": "code",
    "id": "SHeg3-B7nnmn",
    "outputId": "41497636-6f8f-47f4-84ff-9afef6609d2d"
   },
   "outputs": [
    {
     "name": "stdout",
     "output_type": "stream",
     "text": [
      "Prediction Acuracy: 56.99999999999999%\n",
      "                                     precision    recall  f1-score   support\n",
      "\n",
      "                            Economy       1.00      0.03      0.06        32\n",
      "                             Others       0.46      0.52      0.49        97\n",
      "                            Scandal       0.62      0.77      0.69       156\n",
      "Women Reproductive right and Racism       1.00      0.06      0.11        17\n",
      "\n",
      "                          micro avg       0.57      0.57      0.57       302\n",
      "                          macro avg       0.77      0.34      0.34       302\n",
      "                       weighted avg       0.63      0.57      0.53       302\n",
      "\n"
     ]
    },
    {
     "data": {
      "text/plain": [
       "<Figure size 432x288 with 0 Axes>"
      ]
     },
     "metadata": {},
     "output_type": "display_data"
    },
    {
     "data": {
      "image/png": "[encoded data removed]",
      "text/plain": [
       "<Figure size 864x864 with 2 Axes>"
      ]
     },
     "metadata": {
      "needs_background": "light"
     },
     "output_type": "display_data"
    }
   ],
   "source": [
    "ticklabel=election_tweets_neg[election_tweets_neg.sentiment=='negative'].negative_reason.unique()\n",
    "cm=metrics.confusion_matrix(y_multi_test, y_multi_predict, labels=ticklabel)\n",
    "plt.figure()\n",
    "plot_confusion_matrix(cm, classes=ticklabel, title='Election Negative Reason Predictions', fs=(12,12), font_size=16)\n",
    "print ('Prediction Acuracy: '+str(round(accuracy_score(y_multi_test, y_multi_predict),3)*100)+'%')\n",
    "print(classification_report(y_multi_test,y_multi_predict))"
   ]
  },
  {
   "cell_type": "markdown",
   "metadata": {},
   "source": [
    "## Bonus: ngrams for Multi Class model:"
   ]
  },
  {
   "cell_type": "code",
   "execution_count": 75,
   "metadata": {},
   "outputs": [
    {
     "name": "stdout",
     "output_type": "stream",
     "text": [
      "Accuracy Score of Multi class model : 0.57 N=(1, 1)\n",
      "Accuracy Score of Multi class model : 0.556 N=(1, 2)\n",
      "Accuracy Score of Multi class model : 0.543 N=(1, 3)\n",
      "Accuracy Score of Multi class model : 0.507 N=(2, 2)\n",
      "Accuracy Score of Multi class model : 0.513 N=(2, 3)\n",
      "Accuracy Score of Multi class model : 0.52 N=(3, 3)\n"
     ]
    }
   ],
   "source": [
    "n_grams=[(1,1),(1,2),(1,3),(2,2),(2,3),(3,3)]\n",
    "\n",
    "for x in n_grams:\n",
    "    \n",
    "    cv_multi_n=CountVectorizer(ngram_range=(x))\n",
    "    tfidf_multi_c = TfidfTransformer()\n",
    "\n",
    "    election_tweets_neg_text=cv_multi_n.fit_transform(election_tweets_neg.text)\n",
    "    election_neg_trans = tfidf_multi_c.fit_transform(election_tweets_neg_text)\n",
    "    X_multi=election_neg_trans\n",
    "    Y_multi=election_tweets_neg[election_tweets_neg.sentiment=='negative'].negative_reason\n",
    "\n",
    "    X_multi_train, X_multi_test, Y_multi_train, Y_multi_test = train_test_split(X_multi,Y_multi,test_size=0.3, random_state=101)\n",
    "    model_multi_n_grams = LogisticRegression()\n",
    "    model_multi_n_grams.fit(X_multi_train, Y_multi_train)\n",
    "    y_multi_predict_n = model_multi_n_grams.predict(X_multi_test)\n",
    "    print ('Accuracy Score of Multi class model : '+ str(round(accuracy_score(Y_multi_test, y_multi_predict_n),3))+' N='+str(x))"
   ]
  },
  {
   "cell_type": "markdown",
   "metadata": {},
   "source": [
    "It is pretty clear from the above results, that multi class models does a good job with (1,1) ngrams only and the accuracy decreases with the increase in ngrams."
   ]
  },
  {
   "cell_type": "markdown",
   "metadata": {},
   "source": [
    "## Bonus: Hyperparameter Tuning for Multi Class model"
   ]
  },
  {
   "cell_type": "code",
   "execution_count": 76,
   "metadata": {},
   "outputs": [
    {
     "name": "stdout",
     "output_type": "stream",
     "text": [
      "Accuracy Score: 0.57 C=1\n",
      "Accuracy Score: 0.589 C=3\n",
      "Accuracy Score: 0.579 C=5\n",
      "Accuracy Score: 0.579 C=7\n",
      "Accuracy Score: 0.57 C=9\n",
      "Accuracy Score: 0.573 C=11\n"
     ]
    }
   ],
   "source": [
    "C_param=[1,3,5,7,9,11]\n",
    "accuracy_multi=[]\n",
    "for x in C_param:\n",
    "    \n",
    "    cv_multi_c=CountVectorizer(ngram_range=(1,1))\n",
    "    tfidf_multi_c = TfidfTransformer()\n",
    "\n",
    "    election_tweets_neg_text=cv_multi_c.fit_transform(election_tweets_neg.text)\n",
    "    election_neg_trans = tfidf_multi_c.fit_transform(election_tweets_neg_text)\n",
    "    X_multi=election_neg_trans\n",
    "    Y_multi=election_tweets_neg[election_tweets_neg.sentiment=='negative'].negative_reason\n",
    "\n",
    "    X_multi_train, X_multi_test, Y_multi_train, Y_multi_test = train_test_split(X_multi,Y_multi,test_size=0.3, random_state=101)\n",
    "    model_multi_c = LogisticRegression(C=x)\n",
    "    model_multi_c.fit(X_multi_train, Y_multi_train)\n",
    "    y_multi_predict_c = model_multi_c.predict(X_multi_test)\n",
    "    print ('Accuracy Score: '+ str(round(accuracy_score(Y_multi_test, y_multi_predict_c),3))+' C='+str(x))\n",
    "    accuracy_multi.append(round(accuracy_score(Y_multi_test, y_multi_predict_c),3))"
   ]
  },
  {
   "cell_type": "code",
   "execution_count": 77,
   "metadata": {},
   "outputs": [
    {
     "data": {
      "image/png": "[encoded data removed]",
      "text/plain": [
       "<Figure size 432x288 with 1 Axes>"
      ]
     },
     "metadata": {
      "needs_background": "light"
     },
     "output_type": "display_data"
    }
   ],
   "source": [
    "a,=plt.plot(C_param, accuracy_multi, color='blue')\n",
    "plt.title('C Hyperparameter Turning Curve', fontsize=16)\n",
    "plt.xlabel('C Range',fontsize=14)\n",
    "plt.ylabel('Accuracy Score',fontsize=14)\n",
    "plt.show()"
   ]
  },
  {
   "cell_type": "markdown",
   "metadata": {},
   "source": [
    "From the above hyperparameter plot, we can see that the accuracy of our model increases when the C value is 3, and it decreases afterwards. It almost increased from 57% to 58.9% which is actually a good increment.\n",
    "\n",
    "Further hypertuning the model might produce better results on the test data."
   ]
  },
  {
   "cell_type": "markdown",
   "metadata": {},
   "source": [
    "# 5. DISCUSSIONS"
   ]
  },
  {
   "cell_type": "markdown",
   "metadata": {},
   "source": [
    "### 5.1 What can public opinion on Twitter tell us about Canadian Elections 2019?"
   ]
  },
  {
   "cell_type": "code",
   "execution_count": 78,
   "metadata": {},
   "outputs": [
    {
     "name": "stdout",
     "output_type": "stream",
     "text": [
      "Canadian Election Tweet Prediction Result Summary\n"
     ]
    },
    {
     "data": {
      "text/html": [
       "<div>\n",
       "<style scoped>\n",
       "    .dataframe tbody tr th:only-of-type {\n",
       "        vertical-align: middle;\n",
       "    }\n",
       "\n",
       "    .dataframe tbody tr th {\n",
       "        vertical-align: top;\n",
       "    }\n",
       "\n",
       "    .dataframe thead th {\n",
       "        text-align: right;\n",
       "    }\n",
       "</style>\n",
       "<table border=\"1\" class=\"dataframe\">\n",
       "  <thead>\n",
       "    <tr style=\"text-align: right;\">\n",
       "      <th>Predictions</th>\n",
       "      <th>negative</th>\n",
       "      <th>positive</th>\n",
       "      <th>% Negative</th>\n",
       "      <th>% Positive</th>\n",
       "      <th>Total</th>\n",
       "    </tr>\n",
       "    <tr>\n",
       "      <th>Party</th>\n",
       "      <th></th>\n",
       "      <th></th>\n",
       "      <th></th>\n",
       "      <th></th>\n",
       "      <th></th>\n",
       "    </tr>\n",
       "  </thead>\n",
       "  <tbody>\n",
       "    <tr>\n",
       "      <th>None</th>\n",
       "      <td>495</td>\n",
       "      <td>969</td>\n",
       "      <td>33.8</td>\n",
       "      <td>66.2</td>\n",
       "      <td>1464</td>\n",
       "    </tr>\n",
       "    <tr>\n",
       "      <th>Liberal</th>\n",
       "      <td>108</td>\n",
       "      <td>255</td>\n",
       "      <td>29.8</td>\n",
       "      <td>70.2</td>\n",
       "      <td>363</td>\n",
       "    </tr>\n",
       "    <tr>\n",
       "      <th>Conservative</th>\n",
       "      <td>61</td>\n",
       "      <td>118</td>\n",
       "      <td>34.1</td>\n",
       "      <td>65.9</td>\n",
       "      <td>179</td>\n",
       "    </tr>\n",
       "    <tr>\n",
       "      <th>NDP</th>\n",
       "      <td>32</td>\n",
       "      <td>95</td>\n",
       "      <td>25.2</td>\n",
       "      <td>74.8</td>\n",
       "      <td>127</td>\n",
       "    </tr>\n",
       "  </tbody>\n",
       "</table>\n",
       "</div>"
      ],
      "text/plain": [
       "Predictions   negative  positive  % Negative  % Positive  Total\n",
       "Party                                                          \n",
       "None               495       969        33.8        66.2   1464\n",
       "Liberal            108       255        29.8        70.2    363\n",
       "Conservative        61       118        34.1        65.9    179\n",
       "NDP                 32        95        25.2        74.8    127"
      ]
     },
     "metadata": {},
     "output_type": "display_data"
    },
    {
     "name": "stdout",
     "output_type": "stream",
     "text": [
      "Canadian Election Tweet Sentiment Prediction Report\n",
      "\n",
      "              precision    recall  f1-score   support\n",
      "\n",
      "    negative       0.61      0.42      0.50      1006\n",
      "    positive       0.59      0.76      0.67      1127\n",
      "\n",
      "   micro avg       0.60      0.60      0.60      2133\n",
      "   macro avg       0.60      0.59      0.58      2133\n",
      "weighted avg       0.60      0.60      0.59      2133\n",
      "\n"
     ]
    },
    {
     "data": {
      "image/png": "[encoded data removed]",
      "text/plain": [
       "<Figure size 576x576 with 1 Axes>"
      ]
     },
     "metadata": {
      "needs_background": "light"
     },
     "output_type": "display_data"
    }
   ],
   "source": [
    "x = {'Party': election_tweets_vec.Party, 'Predictions': y_pred_election, 'dummy':'1'}\n",
    "election_prediction = pd.DataFrame(data=x)\n",
    "x = pd.pivot_table(election_prediction, values='dummy', index=['Party'], columns=['Predictions'], aggfunc='count')\n",
    "x['% Negative']=x.apply(lambda x: round(int(x['negative'])/(int(x['positive'])+int(x['negative'])),3)*100,axis=1)\n",
    "x['% Positive']=x.apply(lambda x: round(int(x['positive'])/(int(x['positive'])+int(x['negative'])),3)*100,axis=1)\n",
    "x['Total']=x.apply(lambda x: (int(x['positive'])+int(x['negative'])),axis=1)\n",
    "x=x.sort_values(by=['Total'], ascending=False)\n",
    "\n",
    "print('Canadian Election Tweet Prediction Result Summary')\n",
    "display(x)\n",
    "\n",
    "print('Canadian Election Tweet Sentiment Prediction Report\\n')\n",
    "print(classification_report(election_tweets_vec.sentiment, y_pred_election))\n",
    "\n",
    "neg = x['negative'].values\n",
    "\n",
    "fig, ax = plt.subplots()\n",
    "\n",
    "ind = np.arange(len(x))    # the x locations for the groups\n",
    "width = 0.35         # the width of the bars\n",
    "p1 = ax.bar(ind,neg, width, color='coral')\n",
    "\n",
    "pos = x['positive'].values\n",
    "\n",
    "p2 = ax.bar(ind + width, pos, width, color='skyblue')\n",
    "\n",
    "ax.set_title('Canadian Election Tweet Sentiment Prediction', fontsize=20)\n",
    "ax.set_xticks(ind + width / 2)\n",
    "ax.set_xticklabels(list(x.index.values), rotation=60)\n",
    "\n",
    "ax.legend((p1[0], p2[0]), ('Negative', 'Positive'))\n",
    "ax.autoscale_view()\n",
    "plt.xlabel('Party Name', fontsize=12)\n",
    "plt.ylabel('Number of Tweets', fontsize=12)\n",
    "fig.set_size_inches(8,8)\n",
    "\n",
    "i=0\n",
    "for rect in p1:\n",
    "    height = rect.get_height()\n",
    "    value = round(x['% Negative'][i],3)\n",
    "    ax.text(rect.get_x() + rect.get_width()/2., 1.01*height,\n",
    "            '%d' % int(value) + \"%\", ha='center', va='bottom')\n",
    "    i+=1\n",
    "\n",
    "i=0\n",
    "for rect in p2:\n",
    "    height = rect.get_height()\n",
    "    value = round(x['% Positive'] [i],3)\n",
    "    ax.text(rect.get_x() + rect.get_width()/2., 1.01*height,\n",
    "            '%d' % int(value) + \"%\", ha='center', va='bottom')\n",
    "    i+=1\n",
    "\n",
    "plt.show()\n"
   ]
  },
  {
   "cell_type": "markdown",
   "metadata": {},
   "source": [
    "### Liberals won!!!\n",
    "\n",
    "From the above results, we can see that our predictions were almost similar to the original election results. The Liberals won the canadian elections 2019, similarly the predictions we made from the election tweet model, Liberals had the most positive tweets or more support from the publics tweets. We can see that, Liberals had 70% of positive tweets and thats probably the reason they won the Canadian election 2019. I guess our model was able to do a great job of predicting the election results using Tweet Sentiments.\n",
    "\n",
    "Similarly, the Conservative party was the second major party in the Canadian Election 2019. However our model predicted it precisely using the tweet sentiments. Conservative party had 65% of positive tweets and 34% negative tweets.\n",
    "\n",
    "Eventhough, the NDP had highest percentage of positive tweets, the total number of supporters were really low for them. Thats probably the reason, they weren't able to win the Canadian election 2019.\n",
    "\n",
    "### Use of NLP for Election Campaigns:\n",
    "\n",
    "I guess each and every political party might spend some time on analysing the tweets and other social media stuff before starting their campaigns. I mean they can get a basic idea of what people think about them and what people would like to change and so on. Thus using NLP for election campaigns would be a better and smarter idea.\n",
    "\n",
    "### Bias Reason\n",
    "\n",
    "One source of bias in this analysis is that, this source of the data is from people who voluntarily posted on social media. It could be that people are more likely to voice their complaints on social media than extentending their appreation to the parties. The ones who are posting could be a vocal minority.\n",
    "\n",
    "This model has a large discrepency between the precision scores. This is likely due to there are more number of negative tweets in the prediction set, which means that there were more number of negative tweets which was predicted as positive tweets, thus lowering the positive precision score."
   ]
  },
  {
   "cell_type": "markdown",
   "metadata": {},
   "source": [
    "## Discussion on the wrong classifications:"
   ]
  },
  {
   "cell_type": "code",
   "execution_count": 79,
   "metadata": {},
   "outputs": [
    {
     "data": {
      "text/plain": [
       "0.7554671968190855"
      ]
     },
     "execution_count": 79,
     "metadata": {},
     "output_type": "execute_result"
    }
   ],
   "source": [
    "pred_wrong = lg_multi.predict(election_tweet_neg_tf1)\n",
    "accuracy_score(pred_wrong, y_multi)"
   ]
  },
  {
   "cell_type": "code",
   "execution_count": 80,
   "metadata": {},
   "outputs": [],
   "source": [
    "# adding the predictions as a column in data frame for easy viewing \n",
    "election_tweets_neg[\"predictions\"] = pd.Series(pred_wrong)"
   ]
  },
  {
   "cell_type": "code",
   "execution_count": 81,
   "metadata": {},
   "outputs": [
    {
     "data": {
      "text/html": [
       "<div>\n",
       "<style scoped>\n",
       "    .dataframe tbody tr th:only-of-type {\n",
       "        vertical-align: middle;\n",
       "    }\n",
       "\n",
       "    .dataframe tbody tr th {\n",
       "        vertical-align: top;\n",
       "    }\n",
       "\n",
       "    .dataframe thead th {\n",
       "        text-align: right;\n",
       "    }\n",
       "</style>\n",
       "<table border=\"1\" class=\"dataframe\">\n",
       "  <thead>\n",
       "    <tr style=\"text-align: right;\">\n",
       "      <th></th>\n",
       "      <th>sentiment</th>\n",
       "      <th>negative_reason</th>\n",
       "      <th>text</th>\n",
       "      <th>Party</th>\n",
       "      <th>predictions</th>\n",
       "    </tr>\n",
       "  </thead>\n",
       "  <tbody>\n",
       "    <tr>\n",
       "      <th>0</th>\n",
       "      <td>negative</td>\n",
       "      <td>Women Reproductive right and Racism</td>\n",
       "      <td>b rosiebarton instead suggestion agree canadi...</td>\n",
       "      <td>None</td>\n",
       "      <td>Women Reproductive right and Racism</td>\n",
       "    </tr>\n",
       "    <tr>\n",
       "      <th>2</th>\n",
       "      <td>negative</td>\n",
       "      <td>Economy</td>\n",
       "      <td>b brantford going cost billion next year ask ...</td>\n",
       "      <td>Liberal</td>\n",
       "      <td>Others</td>\n",
       "    </tr>\n",
       "    <tr>\n",
       "      <th>4</th>\n",
       "      <td>negative</td>\n",
       "      <td>Economy</td>\n",
       "      <td>b canada taxpayer sick tired hard earned dona...</td>\n",
       "      <td>None</td>\n",
       "      <td>Others</td>\n",
       "    </tr>\n",
       "    <tr>\n",
       "      <th>5</th>\n",
       "      <td>negative</td>\n",
       "      <td>Others</td>\n",
       "      <td>b canadavotes elxn cdnpoli fact blastfromthep...</td>\n",
       "      <td>None</td>\n",
       "      <td>Scandal</td>\n",
       "    </tr>\n",
       "    <tr>\n",
       "      <th>8</th>\n",
       "      <td>negative</td>\n",
       "      <td>Others</td>\n",
       "      <td>b chooseforward cdnpoli elxn ncanada make ame...</td>\n",
       "      <td>None</td>\n",
       "      <td>Scandal</td>\n",
       "    </tr>\n",
       "  </tbody>\n",
       "</table>\n",
       "</div>"
      ],
      "text/plain": [
       "  sentiment                      negative_reason  \\\n",
       "0  negative  Women Reproductive right and Racism   \n",
       "2  negative                              Economy   \n",
       "4  negative                              Economy   \n",
       "5  negative                               Others   \n",
       "8  negative                               Others   \n",
       "\n",
       "                                                text    Party  \\\n",
       "0   b rosiebarton instead suggestion agree canadi...     None   \n",
       "2   b brantford going cost billion next year ask ...  Liberal   \n",
       "4   b canada taxpayer sick tired hard earned dona...     None   \n",
       "5   b canadavotes elxn cdnpoli fact blastfromthep...     None   \n",
       "8   b chooseforward cdnpoli elxn ncanada make ame...     None   \n",
       "\n",
       "                           predictions  \n",
       "0  Women Reproductive right and Racism  \n",
       "2                               Others  \n",
       "4                               Others  \n",
       "5                              Scandal  \n",
       "8                              Scandal  "
      ]
     },
     "execution_count": 81,
     "metadata": {},
     "output_type": "execute_result"
    }
   ],
   "source": [
    "election_tweets_neg.head()"
   ]
  },
  {
   "cell_type": "code",
   "execution_count": 82,
   "metadata": {},
   "outputs": [],
   "source": [
    "# finding the false classifications\n",
    "wrong_class = election_tweets_neg[ pred_wrong != y_multi]"
   ]
  },
  {
   "cell_type": "code",
   "execution_count": 83,
   "metadata": {},
   "outputs": [
    {
     "data": {
      "text/html": [
       "<div>\n",
       "<style scoped>\n",
       "    .dataframe tbody tr th:only-of-type {\n",
       "        vertical-align: middle;\n",
       "    }\n",
       "\n",
       "    .dataframe tbody tr th {\n",
       "        vertical-align: top;\n",
       "    }\n",
       "\n",
       "    .dataframe thead th {\n",
       "        text-align: right;\n",
       "    }\n",
       "</style>\n",
       "<table border=\"1\" class=\"dataframe\">\n",
       "  <thead>\n",
       "    <tr style=\"text-align: right;\">\n",
       "      <th></th>\n",
       "      <th>sentiment</th>\n",
       "      <th>negative_reason</th>\n",
       "      <th>text</th>\n",
       "      <th>Party</th>\n",
       "      <th>predictions</th>\n",
       "    </tr>\n",
       "  </thead>\n",
       "  <tbody>\n",
       "    <tr>\n",
       "      <th>2</th>\n",
       "      <td>negative</td>\n",
       "      <td>Economy</td>\n",
       "      <td>b brantford going cost billion next year ask ...</td>\n",
       "      <td>Liberal</td>\n",
       "      <td>Others</td>\n",
       "    </tr>\n",
       "    <tr>\n",
       "      <th>4</th>\n",
       "      <td>negative</td>\n",
       "      <td>Economy</td>\n",
       "      <td>b canada taxpayer sick tired hard earned dona...</td>\n",
       "      <td>None</td>\n",
       "      <td>Others</td>\n",
       "    </tr>\n",
       "    <tr>\n",
       "      <th>14</th>\n",
       "      <td>negative</td>\n",
       "      <td>Others</td>\n",
       "      <td>b kinsella run deep w cpc lyingandy crazed an...</td>\n",
       "      <td>None</td>\n",
       "      <td>Scandal</td>\n",
       "    </tr>\n",
       "    <tr>\n",
       "      <th>26</th>\n",
       "      <td>negative</td>\n",
       "      <td>Scandal</td>\n",
       "      <td>b alternatespunky electionscan e electionson ...</td>\n",
       "      <td>None</td>\n",
       "      <td>Others</td>\n",
       "    </tr>\n",
       "    <tr>\n",
       "      <th>34</th>\n",
       "      <td>negative</td>\n",
       "      <td>Women Reproductive right and Racism</td>\n",
       "      <td>b andrewscheer life also gotten expensive rep...</td>\n",
       "      <td>None</td>\n",
       "      <td>Scandal</td>\n",
       "    </tr>\n",
       "  </tbody>\n",
       "</table>\n",
       "</div>"
      ],
      "text/plain": [
       "   sentiment                      negative_reason  \\\n",
       "2   negative                              Economy   \n",
       "4   negative                              Economy   \n",
       "14  negative                               Others   \n",
       "26  negative                              Scandal   \n",
       "34  negative  Women Reproductive right and Racism   \n",
       "\n",
       "                                                 text    Party predictions  \n",
       "2    b brantford going cost billion next year ask ...  Liberal      Others  \n",
       "4    b canada taxpayer sick tired hard earned dona...     None      Others  \n",
       "14   b kinsella run deep w cpc lyingandy crazed an...     None     Scandal  \n",
       "26   b alternatespunky electionscan e electionson ...     None      Others  \n",
       "34   b andrewscheer life also gotten expensive rep...     None     Scandal  "
      ]
     },
     "execution_count": 83,
     "metadata": {},
     "output_type": "execute_result"
    }
   ],
   "source": [
    "wrong_class.head()"
   ]
  },
  {
   "cell_type": "code",
   "execution_count": 84,
   "metadata": {},
   "outputs": [
    {
     "data": {
      "text/plain": [
       "' b kinsella run deep w cpc lyingandy crazed anti trudeau fixation bordering freudian n nkinsella hand overhyped snclavalin situation puglaas elizabethmay questioned connection kinsella n n cdnpoli n elxn'"
      ]
     },
     "execution_count": 84,
     "metadata": {},
     "output_type": "execute_result"
    }
   ],
   "source": [
    "wrong_class['text'].iloc[2]"
   ]
  },
  {
   "cell_type": "code",
   "execution_count": 85,
   "metadata": {},
   "outputs": [
    {
     "data": {
      "text/html": [
       "<div>\n",
       "<style scoped>\n",
       "    .dataframe tbody tr th:only-of-type {\n",
       "        vertical-align: middle;\n",
       "    }\n",
       "\n",
       "    .dataframe tbody tr th {\n",
       "        vertical-align: top;\n",
       "    }\n",
       "\n",
       "    .dataframe thead th {\n",
       "        text-align: right;\n",
       "    }\n",
       "</style>\n",
       "<table border=\"1\" class=\"dataframe\">\n",
       "  <thead>\n",
       "    <tr style=\"text-align: right;\">\n",
       "      <th></th>\n",
       "      <th>sentiment</th>\n",
       "      <th>negative_reason</th>\n",
       "      <th>text</th>\n",
       "      <th>Party</th>\n",
       "      <th>predictions</th>\n",
       "    </tr>\n",
       "  </thead>\n",
       "  <tbody>\n",
       "    <tr>\n",
       "      <th>14</th>\n",
       "      <td>negative</td>\n",
       "      <td>Others</td>\n",
       "      <td>b kinsella run deep w cpc lyingandy crazed an...</td>\n",
       "      <td>None</td>\n",
       "      <td>Scandal</td>\n",
       "    </tr>\n",
       "    <tr>\n",
       "      <th>53</th>\n",
       "      <td>negative</td>\n",
       "      <td>Others</td>\n",
       "      <td>b cbconthecoast coalition gov might get u evi...</td>\n",
       "      <td>None</td>\n",
       "      <td>Scandal</td>\n",
       "    </tr>\n",
       "    <tr>\n",
       "      <th>153</th>\n",
       "      <td>negative</td>\n",
       "      <td>Others</td>\n",
       "      <td>b rosiebarton cdnpoli scheer could make ppc m...</td>\n",
       "      <td>Conservative</td>\n",
       "      <td>Scandal</td>\n",
       "    </tr>\n",
       "    <tr>\n",
       "      <th>212</th>\n",
       "      <td>negative</td>\n",
       "      <td>Others</td>\n",
       "      <td>b andrew scheer conservative spiralling contr...</td>\n",
       "      <td>Liberal</td>\n",
       "      <td>Others</td>\n",
       "    </tr>\n",
       "    <tr>\n",
       "      <th>226</th>\n",
       "      <td>negative</td>\n",
       "      <td>Others</td>\n",
       "      <td>b least ensuring voldemort possibly hired hey...</td>\n",
       "      <td>None</td>\n",
       "      <td>Scandal</td>\n",
       "    </tr>\n",
       "  </tbody>\n",
       "</table>\n",
       "</div>"
      ],
      "text/plain": [
       "    sentiment negative_reason  \\\n",
       "14   negative          Others   \n",
       "53   negative          Others   \n",
       "153  negative          Others   \n",
       "212  negative          Others   \n",
       "226  negative          Others   \n",
       "\n",
       "                                                  text         Party  \\\n",
       "14    b kinsella run deep w cpc lyingandy crazed an...          None   \n",
       "53    b cbconthecoast coalition gov might get u evi...          None   \n",
       "153   b rosiebarton cdnpoli scheer could make ppc m...  Conservative   \n",
       "212   b andrew scheer conservative spiralling contr...       Liberal   \n",
       "226   b least ensuring voldemort possibly hired hey...          None   \n",
       "\n",
       "    predictions  \n",
       "14      Scandal  \n",
       "53      Scandal  \n",
       "153     Scandal  \n",
       "212      Others  \n",
       "226     Scandal  "
      ]
     },
     "execution_count": 85,
     "metadata": {},
     "output_type": "execute_result"
    }
   ],
   "source": [
    "wrong_class[wrong_class[\"negative_reason\"] ==\"Others\"].head()"
   ]
  },
  {
   "cell_type": "markdown",
   "metadata": {},
   "source": [
    "### Reasons for wrong classifications:\n",
    "\n",
    "Most of the missclassifications happpened where most of the \"Others\" was missclassfied to \"Scandal\" . Looking at the tweets I see that some of the \"Others\" Labeled tweets resemble and the vocabulary is very similar. This makes the classifier to easily misclassify them. From the above result, we can clearly see some of the missclassified predictions.\n",
    "\n",
    "Another issue is with the inherent draw back of bag of words model where not even the (1,2) gram model captures the subject of the given tweet. This is crucial in defining the direction of the tweet of any text analyisis .\n",
    "\n",
    "For the first model , I found some tweets with many spelling mistakes that were not corrected/recogized by cleaner or bag of words . There were some encoding issue that I could not figure out so the model just removed them.\n",
    "if I can fix these , I believe the model will perform better\n",
    "\n",
    "While fitting the Generic model to Election tweets, I believe the generic vocabulary did not capture all the election specific words since the training set was generic. This I believe is one reason for the low accuracy . Also since the dataset itself is skewed we should try to balance the data by running algorithms like \"SMOTE\" .\n",
    "\n",
    "One of the remedy that I can think we can do to improve accuracy is to use LSTM based neural networks which can keep some attributes such as subject of the sentence in memory , some bidirectional models can even get feedback from the end a sentence.\n",
    "\n",
    "### Suggested Improvements:\n",
    "\n",
    "1. This model could be improved with more data for each class. With increasing number of training data for the class that currently have very little, the model could perform better.\n",
    "2. Remove the Others class from the training model. This is because the data collector identified that these tweets does not have a patter that would associate it with a specific class, thus it was grouped into the Others class. Having this class as part of the training model means that the model could also have difficulty finding a pattern for this class. Though this could be alleviated with more data."
   ]
  },
  {
   "cell_type": "markdown",
   "metadata": {},
   "source": [
    "## Vizualisation of the sentiment prediction results and the true sentiment for each of the 3 parties:"
   ]
  },
  {
   "cell_type": "code",
   "execution_count": 86,
   "metadata": {},
   "outputs": [],
   "source": [
    "#Here I took the specific columns from the election tweet data to perform further analysis\n",
    "\n",
    "a = pd.DataFrame(y_pred_election) # Converting it to a dataframe.\n",
    "b = election_tweets['Party']\n",
    "c = election_tweets['sentiment']"
   ]
  },
  {
   "cell_type": "code",
   "execution_count": 87,
   "metadata": {},
   "outputs": [],
   "source": [
    "d = pd.concat([b,c,a],axis=1) # Concatening the columns to make a dataframe."
   ]
  },
  {
   "cell_type": "code",
   "execution_count": 88,
   "metadata": {},
   "outputs": [],
   "source": [
    "d.columns= ['Party', 'sentiment', 'Predicted'] # assigning relevant column names to our dataframe."
   ]
  },
  {
   "cell_type": "code",
   "execution_count": 89,
   "metadata": {},
   "outputs": [
    {
     "data": {
      "text/plain": [
       "<matplotlib.axes._subplots.AxesSubplot at 0x26bf0cddd68>"
      ]
     },
     "execution_count": 89,
     "metadata": {},
     "output_type": "execute_result"
    },
    {
     "data": {
      "image/png": "[encoded data removed]",
      "text/plain": [
       "<Figure size 432x288 with 1 Axes>"
      ]
     },
     "metadata": {
      "needs_background": "light"
     },
     "output_type": "display_data"
    }
   ],
   "source": [
    "import seaborn as sns\n",
    "sns.countplot(x = d.Party , hue = d.sentiment)"
   ]
  },
  {
   "cell_type": "code",
   "execution_count": 90,
   "metadata": {},
   "outputs": [
    {
     "data": {
      "text/plain": [
       "<matplotlib.axes._subplots.AxesSubplot at 0x26bf0cbaa20>"
      ]
     },
     "execution_count": 90,
     "metadata": {},
     "output_type": "execute_result"
    },
    {
     "data": {
      "image/png": "[encoded data removed]",
      "text/plain": [
       "<Figure size 432x288 with 1 Axes>"
      ]
     },
     "metadata": {
      "needs_background": "light"
     },
     "output_type": "display_data"
    }
   ],
   "source": [
    "sns.countplot(x = d.Party , hue = d.Predicted, palette= \"inferno\")"
   ]
  },
  {
   "cell_type": "markdown",
   "metadata": {},
   "source": [
    "From the above two plots, it can be seen that our model did a pretty decent job in predicting the sentiments of the election tweets. Our election tweet model predicted the sentiments really good for Liberals and NDP where as it didn't do a great job with the Conservatives."
   ]
  },
  {
   "cell_type": "markdown",
   "metadata": {},
   "source": [
    "## Suggested Improvements on increasing the accuracy of Election Tweet model:\n",
    "\n",
    "\n",
    "The model could be trained with domain specific dataset rather than a generic dataset to improve the model prediction in that domain. This idea is tested out in the code below, training the logistic regression model using the Election tweets. Which gave a prediction accuracy of around 70% without parameter tuning and N-grams tuning.\n",
    "\n",
    "The typos and informal lauguage adds noise to the data. These could be improved by applying spell correction to each text in the dataset, which would help eliminate words with extremely low frequency. This improvement was previously attemped with the python autocorrect library however was abondaned due to very high computational cost."
   ]
  },
  {
   "cell_type": "code",
   "execution_count": 91,
   "metadata": {},
   "outputs": [
    {
     "name": "stdout",
     "output_type": "stream",
     "text": [
      "Election Tweet  Model Test Accuracy: 69.19999999999999%\n",
      "\n",
      "              precision    recall  f1-score   support\n",
      "\n",
      "    negative       0.69      0.62      0.65       299\n",
      "    positive       0.69      0.75      0.72       341\n",
      "\n",
      "   micro avg       0.69      0.69      0.69       640\n",
      "   macro avg       0.69      0.69      0.69       640\n",
      "weighted avg       0.69      0.69      0.69       640\n",
      "\n"
     ]
    },
    {
     "data": {
      "text/plain": [
       "<Figure size 432x288 with 0 Axes>"
      ]
     },
     "metadata": {},
     "output_type": "display_data"
    },
    {
     "data": {
      "image/png": "[encoded data removed]",
      "text/plain": [
       "<Figure size 432x432 with 2 Axes>"
      ]
     },
     "metadata": {
      "needs_background": "light"
     },
     "output_type": "display_data"
    }
   ],
   "source": [
    "model_election=LogisticRegression()\n",
    "cv_2=CountVectorizer()\n",
    "election_tweet_bag=cv_2.fit_transform(election_tweets_vec.text)\n",
    "election_fit = TfidfTransformer().fit(election_tweet_bag)\n",
    "election_trans = election_fit.transform(election_tweet_bag)\n",
    "election_trans.shape\n",
    "\n",
    "X_election=election_trans\n",
    "Y_election=election_tweets_vec['sentiment']\n",
    "\n",
    "X_train_election, X_test_election, Y_train_election, Y_test_election = train_test_split(X_election,Y_election,test_size=0.3, random_state=100)\n",
    "\n",
    "model_election.fit(X_train_election,Y_train_election)\n",
    "\n",
    "y_pred_election_2=model_election.predict(X_test_election)\n",
    "\n",
    "ticklabel=election_tweets_vec.sentiment.unique()\n",
    "cm=metrics.confusion_matrix(Y_test_election, y_pred_election_2, labels=ticklabel)\n",
    "plt.figure()\n",
    "plot_confusion_matrix(cm, classes=ticklabel, title='Election Tweets Sentiment Prediction', fs=(6,6), font_size=14)\n",
    "print ('Election Tweet  Model Test Accuracy: '+str(round(accuracy_score(Y_test_election, y_pred_election_2),3)*100)+'%'+'\\n')\n",
    "print(classification_report(Y_test_election, y_pred_election_2))"
   ]
  },
  {
   "cell_type": "markdown",
   "metadata": {},
   "source": [
    "From the above results, we can see that the model prepared using election tweets was able to give a better accuracy of almost 70% instead of using the model prepared from generic tweets dataset. Further hypertuning the ngrams and model parameters could help us get a better accuracy."
   ]
  },
  {
   "cell_type": "code",
   "execution_count": null,
   "metadata": {},
   "outputs": [],
   "source": []
  }
 ],
 "metadata": {
  "accelerator": "GPU",
  "colab": {
   "collapsed_sections": [],
   "name": "fnblkfnbdf.ipynb",
   "provenance": [],
   "toc_visible": true
  },
  "kernelspec": {
   "display_name": "Python 3",
   "language": "python",
   "name": "python3"
  },
  "language_info": {
   "codemirror_mode": {
    "name": "ipython",
    "version": 3
   },
   "file_extension": ".py",
   "mimetype": "text/x-python",
   "name": "python",
   "nbconvert_exporter": "python",
   "pygments_lexer": "ipython3",
   "version": "3.7.1"
  }
 },
 "nbformat": 4,
 "nbformat_minor": 1
}
